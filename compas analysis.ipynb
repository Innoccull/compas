{
 "cells": [
  {
   "cell_type": "markdown",
   "metadata": {},
   "source": [
    "# Responsible AI"
   ]
  },
  {
   "cell_type": "markdown",
   "metadata": {},
   "source": [
    "Responsible AI refers to the practice of developing and deploying artificial intelligence systems in a manner that prioritises ethical considerations, fairness, transparency, accountability, and the overall well-being of individuals and society. It encompasses a set of principles, guidelines, and techniques aimed at mitigating potential risks, biases, and unintended consequences associated with AI technologies.\n",
    "\n",
    "This notebook demonstrates how two key principles of responsible AI can be implemented in practice: fairness and transparency."
   ]
  },
  {
   "cell_type": "markdown",
   "metadata": {},
   "source": [
    "## Data\n",
    "\n",
    "In this notebook we will use the COMPAS dataset to demonstrate how bias in models can be identified and how more transparent models without this bias can be trained.\n",
    "\n",
    "The COMPAS dataset contains information on over 10,000 defendants assessed using the COMPAS tool in Broward County, Florida, between 2013 and 2014. It includes demographic data, criminal history, and details about prior offenses, aiming to predict the likelihood of recidivism. However, concerns have been raised regarding fairness and bias in the COMPAS predictions, as studies have shown disparities across racial and ethnic groups. It therefore provides a good basis for demonstrating how bias in datasets can be identified and mitigated.\n",
    "\n",
    "The COMPAS data used was obtained from ProPublica at https://github.com/propublica/compas-analysis."
   ]
  },
  {
   "cell_type": "code",
   "execution_count": 1,
   "metadata": {},
   "outputs": [],
   "source": [
    "import pandas as pd\n",
    "\n",
    "# load conpas data and view columns\n",
    "compas_df = pd.read_csv(\"compas.csv\")\n",
    "\n",
    "#filter to recidivism only\n",
    "compas_rec_df = compas_df[compas_df['type_of_assessment'] == \"Risk of Recidivism\"]\n",
    "\n",
    "#load person data\n",
    "person_df = pd.read_csv(\"person.csv\")\n",
    "\n",
    "#view first rows\n",
    "pd.set_option('display.max_columns', None)"
   ]
  },
  {
   "cell_type": "markdown",
   "metadata": {},
   "source": [
    "# Detecting Bias\n",
    "\n",
    "AI systems can inadvertently perpetuate biases present in the data they are trained on, leading to unfair or discriminatory outcomes. To address this issue, it is essential to actively identify and mitigate bias in AI models.\n",
    "\n",
    "Fairlearn (https://fairlearn.org/) is an open-source community driven project that helps improve fairness in AI systems. It does this by providing a toolkit that allows users to assess for bias in machine learning models through various metrics and through applying algorithms to trained models to mitigate bias that might be present.\n",
    "\n",
    "Below we will use Fairlearn to identify bias in the predictions made by COMPAS."
   ]
  },
  {
   "cell_type": "code",
   "execution_count": 2,
   "metadata": {},
   "outputs": [
    {
     "data": {
      "text/html": [
       "<div>\n",
       "<style scoped>\n",
       "    .dataframe tbody tr th:only-of-type {\n",
       "        vertical-align: middle;\n",
       "    }\n",
       "\n",
       "    .dataframe tbody tr th {\n",
       "        vertical-align: top;\n",
       "    }\n",
       "\n",
       "    .dataframe thead th {\n",
       "        text-align: right;\n",
       "    }\n",
       "</style>\n",
       "<table border=\"1\" class=\"dataframe\">\n",
       "  <thead>\n",
       "    <tr style=\"text-align: right;\">\n",
       "      <th></th>\n",
       "      <th>race</th>\n",
       "      <th>is_recid</th>\n",
       "      <th>compas_pred</th>\n",
       "    </tr>\n",
       "  </thead>\n",
       "  <tbody>\n",
       "    <tr>\n",
       "      <th>0</th>\n",
       "      <td>Other</td>\n",
       "      <td>0</td>\n",
       "      <td>0</td>\n",
       "    </tr>\n",
       "    <tr>\n",
       "      <th>2</th>\n",
       "      <td>African-American</td>\n",
       "      <td>1</td>\n",
       "      <td>0</td>\n",
       "    </tr>\n",
       "    <tr>\n",
       "      <th>3</th>\n",
       "      <td>African-American</td>\n",
       "      <td>1</td>\n",
       "      <td>0</td>\n",
       "    </tr>\n",
       "    <tr>\n",
       "      <th>4</th>\n",
       "      <td>African-American</td>\n",
       "      <td>0</td>\n",
       "      <td>1</td>\n",
       "    </tr>\n",
       "    <tr>\n",
       "      <th>5</th>\n",
       "      <td>Other</td>\n",
       "      <td>0</td>\n",
       "      <td>0</td>\n",
       "    </tr>\n",
       "  </tbody>\n",
       "</table>\n",
       "</div>"
      ],
      "text/plain": [
       "               race  is_recid  compas_pred\n",
       "0             Other         0            0\n",
       "2  African-American         1            0\n",
       "3  African-American         1            0\n",
       "4  African-American         0            1\n",
       "5             Other         0            0"
      ]
     },
     "execution_count": 2,
     "metadata": {},
     "output_type": "execute_result"
    }
   ],
   "source": [
    "#import necessary libraries\n",
    "import fairlearn\n",
    "import sklearn\n",
    "\n",
    "# create a df to test fairness of predictions\n",
    "fairness_test_df = person_df[['race', 'decile_score', 'is_recid']]\n",
    "\n",
    "#filter out rows with unknown recidivism\n",
    "fairness_test_df = fairness_test_df[fairness_test_df['is_recid'] != -1]\n",
    "\n",
    "#function to set recidivism prediction based on compas decile score\n",
    "# 1-5 = not recidivate coded as 0\n",
    "# 6-10 = recidivate coded as 1\n",
    "\n",
    "def compas_pred(decile_score):\n",
    "    if 0 <= decile_score <= 5:\n",
    "        return 0\n",
    "    else:\n",
    "        return 1\n",
    "    \n",
    "#apply function\n",
    "fairness_test_df['compas_pred'] = fairness_test_df.apply(lambda x: compas_pred(x['decile_score']), axis=1)\n",
    "\n",
    "#drop decile score\n",
    "fairness_test_df = fairness_test_df.drop('decile_score', axis=1)\n",
    "\n",
    "#view dataframe\n",
    "fairness_test_df.head()"
   ]
  },
  {
   "cell_type": "markdown",
   "metadata": {},
   "source": [
    "### Fairness Metrics\n",
    "\n",
    "Fairness can have different definitions in the context of AI. However generally fairness in AI involves removing bias from our models. Bias in models can result in different treatment of groups in a way that undermines our notion of fairness. \n",
    "\n",
    "There are several different fairness metrics that can be used to identify if there is bias in models.\n",
    "\n",
    "| Fairness Metric    | Description                                                    |\n",
    "|--------------------|----------------------------------------------------------------|\n",
    "| Demographic parity | The proportion of positive cases are close for each sub-group. |\n",
    "| Accuracy parity    | The accuracies of each subgroup are close to each other.       |\n",
    "| M3                 | d3                                                             |\n",
    "| m4                 | d4                                                             |\n",
    "| m5                 | d5                                                             |\n",
    "| m6                 | d6                                                             |\n",
    "|                    |                                                                |\n",
    "|                    |                                                                |\n",
    "|                    |                                                                |\n",
    "\n",
    "\n",
    ">*Equalised Odds* is a metric that tests whether a prediction model provides similar accuracy for different groups. Equalised odds measures the difference in >error rates between different groups. An equalised odds score will be between -1 and 1, with scores closer to 1 representing a more fair model which in this >context means that the true positive and false positive rates across groups are similar.\n",
    "\n",
    ">*False positive rate* is a common measure which measures the proportion of positive predictions that are incorrect. This metric is of particular importance >in the case of COMPAS as it represents the case where we incorrectly predict someone is recidivist. Where we incorrectly predict someone is likely to >recidivate, they are more likely to be punished."
   ]
  },
  {
   "cell_type": "code",
   "execution_count": 3,
   "metadata": {},
   "outputs": [
    {
     "name": "stdout",
     "output_type": "stream",
     "text": [
      "0.5224775224775225\n"
     ]
    }
   ],
   "source": [
    "#import fairlearn fairness assessment libraries\n",
    "from fairlearn.metrics import MetricFrame\n",
    "from fairlearn.metrics import count, false_positive_rate, true_positive_rate, false_negative_rate,equalized_odds_difference\n",
    "\n",
    "y_true = fairness_test_df['is_recid']\n",
    "y_pred = fairness_test_df['compas_pred']\n",
    "sf_data = fairness_test_df['race']\n",
    "\n",
    "#common metrics\n",
    "metrics = {\n",
    "    'fpr' : false_positive_rate,\n",
    "    'tpr' : true_positive_rate,\n",
    "    'fnr' : false_negative_rate,\n",
    "    'count' : count\n",
    "}\n",
    "\n",
    "metric_frame = MetricFrame(\n",
    "    metrics=metrics,\n",
    "    y_true = y_true,\n",
    "    y_pred = y_pred,\n",
    "    sensitive_features = sf_data\n",
    ")\n",
    "\n",
    "\n",
    "#equalised odds\n",
    "eq_odds = equalized_odds_difference(y_true, y_pred,sensitive_features=sf_data)\n",
    "\n",
    "#view equalised odds score\n",
    "print(eq_odds)"
   ]
  },
  {
   "cell_type": "markdown",
   "metadata": {},
   "source": [
    "An equalised odds score of around 0.5 shows that the model is moderately fair in its predictions but that there is room for improvement. The next step is to examine more detailed metrics across all groups."
   ]
  },
  {
   "cell_type": "code",
   "execution_count": 4,
   "metadata": {},
   "outputs": [
    {
     "name": "stdout",
     "output_type": "stream",
     "text": [
      "                       fpr       tpr       fnr   count\n",
      "race                                                  \n",
      "African-American  0.400782  0.618391  0.381609  5501.0\n",
      "Asian             0.071429  0.545455  0.454545    53.0\n",
      "Caucasian         0.179919  0.392103  0.607897  3818.0\n",
      "Hispanic          0.159091  0.325670  0.674330  1009.0\n",
      "Native American   0.217391  0.769231  0.230769    36.0\n",
      "Other             0.109208  0.246753  0.753247   621.0\n"
     ]
    }
   ],
   "source": [
    "#print metrics\n",
    "print(metric_frame.by_group)"
   ]
  },
  {
   "cell_type": "markdown",
   "metadata": {},
   "source": [
    "This more detailed view shows us the ways in which the COMPAS predictions exhibit bias. \n",
    "\n",
    "We can see that the COMPAS predictions have a high false positive rate for African-Americans compared to other groups. In the context of COMPAS, this most likely means that African-American defendants are less likely to be granted release before a trial or would be more likely to receive longer sentenced during sentencing.\n",
    "\n",
    "We can also a disparity between groups in false negative rates. African Americans have a relatively low false negative rate while Caucasian and Hispanics have larger false negative rates. In practice what this means is that individuals from the Caucasian and Hispanic groups are more likely to be incorrectly judged to not recidivate and thus a lower risk to the public. This produces the opposite of the scenario for African-Americans above where Caucasian and Hispanic are more likely to be release on pre-trial bail or receive less severe sentences."
   ]
  },
  {
   "cell_type": "markdown",
   "metadata": {},
   "source": [
    "Finally, Fairlearn supports some basic plotting for visualising the metrics generated."
   ]
  },
  {
   "cell_type": "code",
   "execution_count": 5,
   "metadata": {},
   "outputs": [
    {
     "data": {
      "text/plain": [
       "array([[<Axes: title={'center': 'fpr'}, xlabel='race'>]], dtype=object)"
      ]
     },
     "execution_count": 5,
     "metadata": {},
     "output_type": "execute_result"
    },
    {
     "data": {
      "image/png": "[encoded data removed]",
      "text/plain": [
       "<Figure size 1200x800 with 1 Axes>"
      ]
     },
     "metadata": {},
     "output_type": "display_data"
    }
   ],
   "source": [
    "#visualise the false positive rate by race\n",
    "#barplot of false positive rate\n",
    "metric_frame.by_group[[\"fpr\"]].plot(\n",
    "    kind=\"bar\",\n",
    "    subplots=True,\n",
    "    layout=[1, 1],\n",
    "    legend=False,\n",
    "    figsize=[12, 8],\n",
    "    title=\"False positive rate by race\",\n",
    ")"
   ]
  },
  {
   "cell_type": "markdown",
   "metadata": {},
   "source": [
    "# Mitigating Bias"
   ]
  },
  {
   "cell_type": "markdown",
   "metadata": {},
   "source": [
    "Once bias has been identified in a model it should be mitigated so that the AI systems we develop are fair. There are three different stages of model development where we can mitigate bias:\n",
    "- Pre-processing: Manipulating the data we use to train a model to remove bias before it is fed into a model\n",
    "- In-processing: Bias mitigation techniques applied to model training\n",
    "- Post-processing: Bias mitigation techniques after the model has been trained\n",
    "\n",
    "Where we apply bias mitigation techniques will depend on the specific circumstances of our case.\n",
    "\n",
    "\n",
    "We are not able to mitigate bias in the COMPAS model itself as we don't have access, however we will train a new model and mitigate bias within that model as a demonstration of how bias mitigation techniques can be applied in practice. In particular, we will focus on in-processing and post-processing mitigation techniques."
   ]
  },
  {
   "cell_type": "markdown",
   "metadata": {},
   "source": [
    "### Train a new model\n",
    "\n",
    "To train a new model, we will use InterpretML (https://interpret.ml/). InterpretML is a toolkit that enables training models that are more interpretable and explainable. \n",
    "One of the key features of responsible AI is that AI systems should be transparent. Transparency is in large part achieved by developing AI models that are interpretable and explainable.\n",
    "\n",
    ">*Interpretable AI* is AI where humans can understand the decision-making process of an AI system. Specifically, this is about how well the inner workings of an AI system be can understood by a human.\n",
    ">\n",
    ">*Explainable AI* refers to the ability of an AI system to provide clear and understandable justification for its decisions. Specificially the system should be able to provide a clear and transparent explanation for why it make a particular decision.\n",
    "\n",
    "\n",
    "We will use InterpretML to train a model to predict recidivism based on the COMPAS data."
   ]
  },
  {
   "cell_type": "code",
   "execution_count": 6,
   "metadata": {},
   "outputs": [
    {
     "data": {
      "text/html": [
       "<div>\n",
       "<style scoped>\n",
       "    .dataframe tbody tr th:only-of-type {\n",
       "        vertical-align: middle;\n",
       "    }\n",
       "\n",
       "    .dataframe tbody tr th {\n",
       "        vertical-align: top;\n",
       "    }\n",
       "\n",
       "    .dataframe thead th {\n",
       "        text-align: right;\n",
       "    }\n",
       "</style>\n",
       "<table border=\"1\" class=\"dataframe\">\n",
       "  <thead>\n",
       "    <tr style=\"text-align: right;\">\n",
       "      <th></th>\n",
       "      <th>sex</th>\n",
       "      <th>race</th>\n",
       "      <th>age</th>\n",
       "      <th>age_cat</th>\n",
       "      <th>juv_fel_count</th>\n",
       "      <th>juv_misd_count</th>\n",
       "      <th>juv_other_count</th>\n",
       "      <th>priors_count</th>\n",
       "      <th>c_charge_degree</th>\n",
       "      <th>c_charge_desc</th>\n",
       "      <th>is_recid</th>\n",
       "    </tr>\n",
       "  </thead>\n",
       "  <tbody>\n",
       "    <tr>\n",
       "      <th>0</th>\n",
       "      <td>Male</td>\n",
       "      <td>Other</td>\n",
       "      <td>69</td>\n",
       "      <td>Greater than 45</td>\n",
       "      <td>0</td>\n",
       "      <td>0</td>\n",
       "      <td>0</td>\n",
       "      <td>0</td>\n",
       "      <td>(F3)</td>\n",
       "      <td>Aggravated Assault w/Firearm</td>\n",
       "      <td>0</td>\n",
       "    </tr>\n",
       "    <tr>\n",
       "      <th>2</th>\n",
       "      <td>Male</td>\n",
       "      <td>African-American</td>\n",
       "      <td>34</td>\n",
       "      <td>25 - 45</td>\n",
       "      <td>0</td>\n",
       "      <td>0</td>\n",
       "      <td>0</td>\n",
       "      <td>0</td>\n",
       "      <td>(F3)</td>\n",
       "      <td>Felony Battery w/Prior Convict</td>\n",
       "      <td>1</td>\n",
       "    </tr>\n",
       "    <tr>\n",
       "      <th>3</th>\n",
       "      <td>Male</td>\n",
       "      <td>African-American</td>\n",
       "      <td>24</td>\n",
       "      <td>Less than 25</td>\n",
       "      <td>0</td>\n",
       "      <td>0</td>\n",
       "      <td>1</td>\n",
       "      <td>4</td>\n",
       "      <td>(F3)</td>\n",
       "      <td>Possession of Cocaine</td>\n",
       "      <td>1</td>\n",
       "    </tr>\n",
       "    <tr>\n",
       "      <th>4</th>\n",
       "      <td>Male</td>\n",
       "      <td>African-American</td>\n",
       "      <td>23</td>\n",
       "      <td>Less than 25</td>\n",
       "      <td>0</td>\n",
       "      <td>1</td>\n",
       "      <td>0</td>\n",
       "      <td>1</td>\n",
       "      <td>(F3)</td>\n",
       "      <td>Possession of Cannabis</td>\n",
       "      <td>0</td>\n",
       "    </tr>\n",
       "    <tr>\n",
       "      <th>5</th>\n",
       "      <td>Male</td>\n",
       "      <td>Other</td>\n",
       "      <td>43</td>\n",
       "      <td>25 - 45</td>\n",
       "      <td>0</td>\n",
       "      <td>0</td>\n",
       "      <td>0</td>\n",
       "      <td>2</td>\n",
       "      <td>(F7)</td>\n",
       "      <td>arrest case no charge</td>\n",
       "      <td>0</td>\n",
       "    </tr>\n",
       "  </tbody>\n",
       "</table>\n",
       "</div>"
      ],
      "text/plain": [
       "    sex              race  age          age_cat  juv_fel_count  \\\n",
       "0  Male             Other   69  Greater than 45              0   \n",
       "2  Male  African-American   34          25 - 45              0   \n",
       "3  Male  African-American   24     Less than 25              0   \n",
       "4  Male  African-American   23     Less than 25              0   \n",
       "5  Male             Other   43          25 - 45              0   \n",
       "\n",
       "   juv_misd_count  juv_other_count  priors_count c_charge_degree  \\\n",
       "0               0                0             0            (F3)   \n",
       "2               0                0             0            (F3)   \n",
       "3               0                1             4            (F3)   \n",
       "4               1                0             1            (F3)   \n",
       "5               0                0             2            (F7)   \n",
       "\n",
       "                    c_charge_desc  is_recid  \n",
       "0    Aggravated Assault w/Firearm         0  \n",
       "2  Felony Battery w/Prior Convict         1  \n",
       "3           Possession of Cocaine         1  \n",
       "4          Possession of Cannabis         0  \n",
       "5           arrest case no charge         0  "
      ]
     },
     "execution_count": 6,
     "metadata": {},
     "output_type": "execute_result"
    }
   ],
   "source": [
    "#identify the columns that will be kept \n",
    "keep_cols = ['sex', 'race', 'age', 'age_cat', 'juv_fel_count', 'juv_misd_count', 'juv_other_count', 'priors_count', 'c_charge_degree', 'c_charge_desc', 'is_recid']\n",
    "train_df = person_df[keep_cols]\n",
    "\n",
    "#filter out rows with unknown recidivism outcome\n",
    "train_df = train_df[train_df['is_recid'] != -1]\n",
    "\n",
    "#remove rows with missing values\n",
    "train_df = train_df.dropna()\n",
    "\n",
    "#view data that will be used to train the model\n",
    "train_df.head()"
   ]
  },
  {
   "cell_type": "code",
   "execution_count": 7,
   "metadata": {},
   "outputs": [],
   "source": [
    "#import libraries\n",
    "from sklearn.model_selection import train_test_split\n",
    "from interpret.glassbox import ExplainableBoostingClassifier\n",
    "from sklearn.metrics import accuracy_score, precision_score, recall_score, f1_score\n",
    "\n",
    "#create train/test split\n",
    "train, test = train_test_split(train_df, test_size=0.2)\n",
    "\n",
    "x_train = train.loc[:, train.columns != 'is_recid']\n",
    "y_train = train.loc[:, train.columns == 'is_recid']\n",
    "\n",
    "x_test = test.loc[:, test.columns != 'is_recid']\n",
    "y_test = test.loc[:, test.columns == 'is_recid']"
   ]
  },
  {
   "cell_type": "markdown",
   "metadata": {},
   "source": [
    "#### Explainable Boosting Machine (EBM)\n",
    "\n",
    "EBM is an example of a *glassbox model*. \n",
    "\n",
    ">*Glassbox models* are designed for explainability, meaning that the model can clearly explain how it made its predictions. This is in contrast to *blackbox >models* where explanations are not direct.\n",
    "\n",
    "EBM is a tree-based model that uses gradient boosting with an ensemble of decision trees. EBM models have high accuracy and allow effective visualisation of how a model makes its predictions.\n",
    "\n",
    "Due to their high accuracy and inherent explainability, EBM models provide a good default model for AI systems."
   ]
  },
  {
   "cell_type": "code",
   "execution_count": 8,
   "metadata": {},
   "outputs": [
    {
     "name": "stdout",
     "output_type": "stream",
     "text": [
      "Accuracy: 0.6970935513169846\n",
      "Precision: 0.6614157576795966\n",
      "Recall: 0.6104514413001745\n",
      "F1 Score: 0.6124674568063067\n"
     ]
    }
   ],
   "source": [
    "#train a explainable boosting classifier\n",
    "ebm = ExplainableBoostingClassifier()\n",
    "ebm.fit(x_train, y_train)\n",
    "\n",
    "#model performance\n",
    "y_pred = ebm.predict(x_test)\n",
    "\n",
    "# Assess the model's performance\n",
    "accuracy = accuracy_score(y_test, y_pred)\n",
    "precision = precision_score(y_test, y_pred, average='macro')\n",
    "recall = recall_score(y_test, y_pred, average='macro')\n",
    "f1 = f1_score(y_test, y_pred, average='macro')\n",
    "\n",
    "# Print the performance metrics\n",
    "print(\"Accuracy:\", accuracy)\n",
    "print(\"Precision:\", precision)\n",
    "print(\"Recall:\", recall)\n",
    "print(\"F1 Score:\", f1)"
   ]
  },
  {
   "cell_type": "markdown",
   "metadata": {},
   "source": [
    "The model performs modestly well with all metrics ranging between 0.60 and 0.70.\n",
    "\n",
    "\n",
    "InterpretML provides useful visualisations that make the model explanations accessible to people. The visualisation shows both which features are most important for making a prediction and how the values within each variable influence the prediction (for example, within the 'sex' variable we can see specifically how 'male' will impact the overall prediction and separately how 'female' will impact the overall prediction). \n",
    "\n",
    "Selecting 'Summary' in the below will show the overall influence of separate variables in making a prediction. Selecting individual variables will show how the values of that specific variable impact a prediction."
   ]
  },
  {
   "cell_type": "code",
   "execution_count": 9,
   "metadata": {},
   "outputs": [
    {
     "data": {
      "text/html": [
       "<!-- http://127.0.0.1:7001/2499730532496/ -->\n",
       "<iframe src=\"http://127.0.0.1:7001/2499730532496/\" width=100% height=800 frameBorder=\"0\"></iframe>"
      ]
     },
     "metadata": {},
     "output_type": "display_data"
    }
   ],
   "source": [
    "from interpret import show\n",
    "\n",
    "#explain the overall model\n",
    "ebm_global = ebm.explain_global()\n",
    "show(ebm_global)"
   ]
  },
  {
   "cell_type": "markdown",
   "metadata": {},
   "source": [
    "From the explanation provide, we can see that:\n",
    "- Priors count, age, type of charge and race are the top predictors of whether an individual will recidivate\n",
    "- The higher the priors are, the more likely it is someone will recidivate. However interestingly fewer than 2 priors is associated with a lower likelihood to recidivate.\n",
    "- Younger ages are associated with a higher likelihood to recidivate. Those below 30 have an increased probability for recidivating while those above 30 have a decreased likelihood to recidivate.\n",
    "- Being female will reduce the probability scoring of the predictor while being male will result in a very slightly increased likelihood.\n",
    "- All races except for African-American are associated with a lower likelihood to recidivate, African-Americans will receive a higher score when predicting recidivism"
   ]
  },
  {
   "cell_type": "code",
   "execution_count": 10,
   "metadata": {},
   "outputs": [
    {
     "data": {
      "text/html": [
       "<!-- http://127.0.0.1:7001/2499730532832/ -->\n",
       "<iframe src=\"http://127.0.0.1:7001/2499730532832/\" width=100% height=800 frameBorder=\"0\"></iframe>"
      ]
     },
     "metadata": {},
     "output_type": "display_data"
    }
   ],
   "source": [
    "#explain individual predictions\n",
    "ebm_local = ebm.explain_local(x_test, y_test)\n",
    "show(ebm_local)"
   ]
  },
  {
   "cell_type": "markdown",
   "metadata": {},
   "source": [
    "The local explainer shows what the model predicted for each case, the probability associated with that prediction and how each feature impacted that prediction. This provides an extremely useful explanation for human users of that prediction. \n",
    "\n",
    "For example, examining prediction 1 reveals that:\n",
    "- The prediction was wrong with a high level of confidence. The model predicted that the person would not recidivate with a confidence of 0.895, the person did recidivate.\n",
    "- The largest contributors that led to this high level of confidence were the fact that the individual did not have any priors, was older and female and was caucasian.\n",
    "- There are some interaction variables that increase the likelihood of recidivating, this is race and age and race and juvenile offences. This demonstrates that while age and race are individually leading to a lower prediction, the interaction is capturing the nuance that being both older and caucasian actually presents a higher probability of recidivating."
   ]
  },
  {
   "cell_type": "markdown",
   "metadata": {},
   "source": [
    "#### Assessing Bias \n",
    "\n",
    "A bias assessment of a trained model focuses on the impact the model has on specific groups and whether this impact is biased or not.\n",
    "\n",
    "The overall model explanation above showed that there are two sensitive features that have high predictive value and therefore could be influencing model bias: age and race. We will check for model bias in both of these features."
   ]
  },
  {
   "cell_type": "code",
   "execution_count": 11,
   "metadata": {},
   "outputs": [],
   "source": [
    "#test for bias in age\n",
    "from fairlearn.metrics import MetricFrame\n",
    "from fairlearn.metrics import count, false_positive_rate, true_positive_rate, equalized_odds_difference\n",
    "\n",
    "#define sensitive features\n",
    "sf_data = x_test['race']\n",
    "\n",
    "#common metrics\n",
    "metrics = {\n",
    "    'fpr' : false_positive_rate,\n",
    "    'tpr' : true_positive_rate,\n",
    "    'count' : count\n",
    "}\n",
    "\n",
    "metric_frame = MetricFrame(\n",
    "    metrics=metrics,\n",
    "    y_true = y_test,\n",
    "    y_pred = y_pred,\n",
    "    sensitive_features = sf_data\n",
    ")\n",
    "\n",
    "\n",
    "#equalised odds\n",
    "eq_odds = equalized_odds_difference(y_test, y_pred,sensitive_features=sf_data)"
   ]
  },
  {
   "cell_type": "code",
   "execution_count": 12,
   "metadata": {},
   "outputs": [
    {
     "data": {
      "text/plain": [
       "0.5"
      ]
     },
     "execution_count": 12,
     "metadata": {},
     "output_type": "execute_result"
    }
   ],
   "source": [
    "eq_odds"
   ]
  },
  {
   "cell_type": "markdown",
   "metadata": {},
   "source": [
    "Equal odds show a difference in performance between groups for the face feature. Examining the actual false positive and true positive rates will reveal where the actual bias is emerging."
   ]
  },
  {
   "cell_type": "code",
   "execution_count": 13,
   "metadata": {},
   "outputs": [
    {
     "data": {
      "text/html": [
       "<div>\n",
       "<style scoped>\n",
       "    .dataframe tbody tr th:only-of-type {\n",
       "        vertical-align: middle;\n",
       "    }\n",
       "\n",
       "    .dataframe tbody tr th {\n",
       "        vertical-align: top;\n",
       "    }\n",
       "\n",
       "    .dataframe thead th {\n",
       "        text-align: right;\n",
       "    }\n",
       "</style>\n",
       "<table border=\"1\" class=\"dataframe\">\n",
       "  <thead>\n",
       "    <tr style=\"text-align: right;\">\n",
       "      <th></th>\n",
       "      <th>fpr</th>\n",
       "      <th>tpr</th>\n",
       "      <th>count</th>\n",
       "    </tr>\n",
       "    <tr>\n",
       "      <th>race</th>\n",
       "      <th></th>\n",
       "      <th></th>\n",
       "      <th></th>\n",
       "    </tr>\n",
       "  </thead>\n",
       "  <tbody>\n",
       "    <tr>\n",
       "      <th>African-American</th>\n",
       "      <td>0.199102</td>\n",
       "      <td>0.440449</td>\n",
       "      <td>1113.0</td>\n",
       "    </tr>\n",
       "    <tr>\n",
       "      <th>Asian</th>\n",
       "      <td>0.000000</td>\n",
       "      <td>0.000000</td>\n",
       "      <td>13.0</td>\n",
       "    </tr>\n",
       "    <tr>\n",
       "      <th>Caucasian</th>\n",
       "      <td>0.037244</td>\n",
       "      <td>0.187500</td>\n",
       "      <td>761.0</td>\n",
       "    </tr>\n",
       "    <tr>\n",
       "      <th>Hispanic</th>\n",
       "      <td>0.051852</td>\n",
       "      <td>0.150943</td>\n",
       "      <td>188.0</td>\n",
       "    </tr>\n",
       "    <tr>\n",
       "      <th>Native American</th>\n",
       "      <td>0.000000</td>\n",
       "      <td>0.500000</td>\n",
       "      <td>6.0</td>\n",
       "    </tr>\n",
       "    <tr>\n",
       "      <th>Other</th>\n",
       "      <td>0.063158</td>\n",
       "      <td>0.230769</td>\n",
       "      <td>121.0</td>\n",
       "    </tr>\n",
       "  </tbody>\n",
       "</table>\n",
       "</div>"
      ],
      "text/plain": [
       "                       fpr       tpr   count\n",
       "race                                        \n",
       "African-American  0.199102  0.440449  1113.0\n",
       "Asian             0.000000  0.000000    13.0\n",
       "Caucasian         0.037244  0.187500   761.0\n",
       "Hispanic          0.051852  0.150943   188.0\n",
       "Native American   0.000000  0.500000     6.0\n",
       "Other             0.063158  0.230769   121.0"
      ]
     },
     "execution_count": 13,
     "metadata": {},
     "output_type": "execute_result"
    }
   ],
   "source": [
    "metric_frame.by_group"
   ]
  },
  {
   "cell_type": "markdown",
   "metadata": {},
   "source": [
    "There are significant disparities across groups for both false positive and true positive rates. From these we can observe that:\n",
    "- African-Americans and Native Americans have the highest false positive rate, meaning that they are more likely to be incorrectly judged recidivist.\n",
    "- The true positive rate for Asian, Caucasian and Other are lower, meaning they are more likely to be incorrectly judged to not be recidivist.\n",
    "\n",
    "The differences in false and true positive rates here do provide reason to introduce bias mitigation measures. If we were to continue with this model, it would be the case that African-Americans and Native Americans are at least 3 times more likely to be incorrectly labeled as likely to recidivate compared to other groups."
   ]
  },
  {
   "cell_type": "code",
   "execution_count": 14,
   "metadata": {},
   "outputs": [
    {
     "name": "stdout",
     "output_type": "stream",
     "text": [
      "0.3279975967728092\n"
     ]
    }
   ],
   "source": [
    "#test for bias in age\n",
    "from fairlearn.metrics import MetricFrame\n",
    "from fairlearn.metrics import count, false_positive_rate, true_positive_rate, equalized_odds_difference\n",
    "\n",
    "#define sensitive features\n",
    "sf_data = x_test['age_cat']\n",
    "\n",
    "#common metrics\n",
    "metrics = {\n",
    "    'fpr' : false_positive_rate,\n",
    "    'tpr' : true_positive_rate,\n",
    "    'count' : count\n",
    "}\n",
    "\n",
    "metric_frame = MetricFrame(\n",
    "    metrics=metrics,\n",
    "    y_true = y_test,\n",
    "    y_pred = y_pred,\n",
    "    sensitive_features = sf_data\n",
    ")\n",
    "\n",
    "\n",
    "#equalised odds\n",
    "eq_odds = equalized_odds_difference(y_test, y_pred,sensitive_features=sf_data)\n",
    "\n",
    "print(eq_odds)"
   ]
  },
  {
   "cell_type": "code",
   "execution_count": 15,
   "metadata": {},
   "outputs": [
    {
     "data": {
      "text/html": [
       "<div>\n",
       "<style scoped>\n",
       "    .dataframe tbody tr th:only-of-type {\n",
       "        vertical-align: middle;\n",
       "    }\n",
       "\n",
       "    .dataframe tbody tr th {\n",
       "        vertical-align: top;\n",
       "    }\n",
       "\n",
       "    .dataframe thead th {\n",
       "        text-align: right;\n",
       "    }\n",
       "</style>\n",
       "<table border=\"1\" class=\"dataframe\">\n",
       "  <thead>\n",
       "    <tr style=\"text-align: right;\">\n",
       "      <th></th>\n",
       "      <th>fpr</th>\n",
       "      <th>tpr</th>\n",
       "      <th>count</th>\n",
       "    </tr>\n",
       "    <tr>\n",
       "      <th>age_cat</th>\n",
       "      <th></th>\n",
       "      <th></th>\n",
       "      <th></th>\n",
       "    </tr>\n",
       "  </thead>\n",
       "  <tbody>\n",
       "    <tr>\n",
       "      <th>25 - 45</th>\n",
       "      <td>0.121859</td>\n",
       "      <td>0.356009</td>\n",
       "      <td>1237.0</td>\n",
       "    </tr>\n",
       "    <tr>\n",
       "      <th>Greater than 45</th>\n",
       "      <td>0.028497</td>\n",
       "      <td>0.106557</td>\n",
       "      <td>508.0</td>\n",
       "    </tr>\n",
       "    <tr>\n",
       "      <th>Less than 25</th>\n",
       "      <td>0.218045</td>\n",
       "      <td>0.434555</td>\n",
       "      <td>457.0</td>\n",
       "    </tr>\n",
       "  </tbody>\n",
       "</table>\n",
       "</div>"
      ],
      "text/plain": [
       "                      fpr       tpr   count\n",
       "age_cat                                    \n",
       "25 - 45          0.121859  0.356009  1237.0\n",
       "Greater than 45  0.028497  0.106557   508.0\n",
       "Less than 25     0.218045  0.434555   457.0"
      ]
     },
     "execution_count": 15,
     "metadata": {},
     "output_type": "execute_result"
    }
   ],
   "source": [
    "metric_frame.by_group"
   ]
  },
  {
   "cell_type": "markdown",
   "metadata": {},
   "source": [
    "Observing this we can see a disparity in true and false positive rates. Specifically, the 'Greater than 45' category has much lower false and true positive rates compared to the other categories. "
   ]
  },
  {
   "cell_type": "markdown",
   "metadata": {},
   "source": [
    "### Applying Fairlearn to Mitigate Bias\n",
    "\n",
    "We will deal with mitigating bias for both age and race."
   ]
  },
  {
   "cell_type": "code",
   "execution_count": 16,
   "metadata": {},
   "outputs": [
    {
     "data": {
      "text/plain": [
       "sign  event    group_id        \n",
       "+     label=0  African-American    0.084461\n",
       "               Asian              -0.114641\n",
       "               Caucasian          -0.077397\n",
       "               Hispanic           -0.062789\n",
       "               Native American    -0.114641\n",
       "               Other              -0.051483\n",
       "-     label=0  African-American   -0.084461\n",
       "               Asian               0.114641\n",
       "               Caucasian           0.077397\n",
       "               Hispanic            0.062789\n",
       "               Native American     0.114641\n",
       "               Other               0.051483\n",
       "dtype: float64"
      ]
     },
     "execution_count": 16,
     "metadata": {},
     "output_type": "execute_result"
    }
   ],
   "source": [
    "from fairlearn.reductions import FalsePositiveRateParity\n",
    "\n",
    "fprp = FalsePositiveRateParity(difference_bound=0.01)\n",
    "sensitive_features = x_test['race']\n",
    "\n",
    "\n",
    "fprp.load_data(x_test, y_test, sensitive_features=sensitive_features)\n",
    "fprp.gamma(lambda X: y_pred)"
   ]
  },
  {
   "cell_type": "markdown",
   "metadata": {},
   "source": [
    "### Post-processing\n",
    "\n",
    "We will apply threshold optimization."
   ]
  },
  {
   "cell_type": "code",
   "execution_count": 17,
   "metadata": {},
   "outputs": [],
   "source": [
    "from fairlearn.postprocessing import ThresholdOptimizer\n",
    "\n",
    "postprocess_est = ThresholdOptimizer(\n",
    "                    estimator=ebm,\n",
    "                    constraints=\"false_positive_rate_parity\",\n",
    "                    objective=\"balanced_accuracy_score\",\n",
    "                    prefit=True,\n",
    "                    predict_method=\"predict_proba\"\n",
    ")\n",
    "\n",
    "sensitive_features = x_train['race']"
   ]
  },
  {
   "cell_type": "code",
   "execution_count": 18,
   "metadata": {},
   "outputs": [],
   "source": [
    "#train model with fairness constraint\n",
    "fair_ebm = postprocess_est.fit(x_train, y_train, sensitive_features=sensitive_features)"
   ]
  },
  {
   "cell_type": "code",
   "execution_count": 19,
   "metadata": {},
   "outputs": [
    {
     "name": "stdout",
     "output_type": "stream",
     "text": [
      "Accuracy: 0.6471389645776566\n",
      "Precision: 0.6381890888317624\n",
      "Recall: 0.6528780207218958\n",
      "F1 Score: 0.6342736095984918\n"
     ]
    }
   ],
   "source": [
    "#assess model\n",
    "\n",
    "sensitive_features = x_test['race']\n",
    "\n",
    "#model performance\n",
    "y_pred = fair_ebm.predict(x_test, sensitive_features=sensitive_features)\n",
    "\n",
    "# Assess the model's performance\n",
    "accuracy = accuracy_score(y_test, y_pred)\n",
    "precision = precision_score(y_test, y_pred, average='macro')\n",
    "recall = recall_score(y_test, y_pred, average='macro')\n",
    "f1 = f1_score(y_test, y_pred, average='macro')\n",
    "\n",
    "# Print the performance metrics\n",
    "print(\"Accuracy:\", accuracy)\n",
    "print(\"Precision:\", precision)\n",
    "print(\"Recall:\", recall)\n",
    "print(\"F1 Score:\", f1)"
   ]
  },
  {
   "cell_type": "code",
   "execution_count": 20,
   "metadata": {},
   "outputs": [
    {
     "name": "stdout",
     "output_type": "stream",
     "text": [
      "0.375\n"
     ]
    }
   ],
   "source": [
    "#define sensitive features\n",
    "sf_data = x_test['race']\n",
    "\n",
    "#common metrics\n",
    "metrics = {\n",
    "    'fpr' : false_positive_rate,\n",
    "    'count' : count\n",
    "}\n",
    "\n",
    "metric_frame = MetricFrame(\n",
    "    metrics=metrics,\n",
    "    y_true = y_test,\n",
    "    y_pred = y_pred,\n",
    "    sensitive_features = sf_data\n",
    ")\n",
    "\n",
    "\n",
    "#equalised odds\n",
    "eq_odds = equalized_odds_difference(y_test, y_pred,sensitive_features=sf_data)\n",
    "\n",
    "print(eq_odds)"
   ]
  },
  {
   "cell_type": "code",
   "execution_count": 21,
   "metadata": {},
   "outputs": [
    {
     "data": {
      "text/html": [
       "<div>\n",
       "<style scoped>\n",
       "    .dataframe tbody tr th:only-of-type {\n",
       "        vertical-align: middle;\n",
       "    }\n",
       "\n",
       "    .dataframe tbody tr th {\n",
       "        vertical-align: top;\n",
       "    }\n",
       "\n",
       "    .dataframe thead th {\n",
       "        text-align: right;\n",
       "    }\n",
       "</style>\n",
       "<table border=\"1\" class=\"dataframe\">\n",
       "  <thead>\n",
       "    <tr style=\"text-align: right;\">\n",
       "      <th></th>\n",
       "      <th>fpr</th>\n",
       "      <th>count</th>\n",
       "    </tr>\n",
       "    <tr>\n",
       "      <th>race</th>\n",
       "      <th></th>\n",
       "      <th></th>\n",
       "    </tr>\n",
       "  </thead>\n",
       "  <tbody>\n",
       "    <tr>\n",
       "      <th>African-American</th>\n",
       "      <td>0.389222</td>\n",
       "      <td>1113.0</td>\n",
       "    </tr>\n",
       "    <tr>\n",
       "      <th>Asian</th>\n",
       "      <td>0.666667</td>\n",
       "      <td>13.0</td>\n",
       "    </tr>\n",
       "    <tr>\n",
       "      <th>Caucasian</th>\n",
       "      <td>0.331471</td>\n",
       "      <td>761.0</td>\n",
       "    </tr>\n",
       "    <tr>\n",
       "      <th>Hispanic</th>\n",
       "      <td>0.377778</td>\n",
       "      <td>188.0</td>\n",
       "    </tr>\n",
       "    <tr>\n",
       "      <th>Native American</th>\n",
       "      <td>0.500000</td>\n",
       "      <td>6.0</td>\n",
       "    </tr>\n",
       "    <tr>\n",
       "      <th>Other</th>\n",
       "      <td>0.336842</td>\n",
       "      <td>121.0</td>\n",
       "    </tr>\n",
       "  </tbody>\n",
       "</table>\n",
       "</div>"
      ],
      "text/plain": [
       "                       fpr   count\n",
       "race                              \n",
       "African-American  0.389222  1113.0\n",
       "Asian             0.666667    13.0\n",
       "Caucasian         0.331471   761.0\n",
       "Hispanic          0.377778   188.0\n",
       "Native American   0.500000     6.0\n",
       "Other             0.336842   121.0"
      ]
     },
     "execution_count": 21,
     "metadata": {},
     "output_type": "execute_result"
    }
   ],
   "source": [
    "#view metrics\n",
    "metric_frame.by_group"
   ]
  },
  {
   "cell_type": "markdown",
   "metadata": {},
   "source": [
    "Applying a threshold optimizer to optimise for parity in false positive rates produces interesting results.\n",
    "\n",
    "Firstly we see that equalised odds has improved slightly, reducing from 0.5 to 0.4. However the detail of this change reveals something interesting. \n",
    "\n",
    "The false positive rates are steady across most groups (around 0.3) except for the Asian group qhich has a false positive rate of 0.7. This is in stark contrast to the previously trained model which had a false positive rate of 0 for the Asian group and which had a maximum false positive rate of 0.18.\n",
    "\n",
    "While we introduce parity across most groups for false positive rate, it introduces an extremely high false positive rate for one group which would not be acceptable in practice. This highlights an important consideration in fairness. Fairness is not just about parity but is also about a threshold for the overall outcome for specific groups."
   ]
  },
  {
   "cell_type": "markdown",
   "metadata": {},
   "source": [
    "# Summary"
   ]
  },
  {
   "cell_type": "markdown",
   "metadata": {},
   "source": [
    "In summary..."
   ]
  }
 ],
 "metadata": {
  "kernelspec": {
   "display_name": "base",
   "language": "python",
   "name": "python3"
  },
  "language_info": {
   "codemirror_mode": {
    "name": "ipython",
    "version": 3
   },
   "file_extension": ".py",
   "mimetype": "text/x-python",
   "name": "python",
   "nbconvert_exporter": "python",
   "pygments_lexer": "ipython3",
   "version": "3.10.9"
  },
  "orig_nbformat": 4
 },
 "nbformat": 4,
 "nbformat_minor": 2
}
