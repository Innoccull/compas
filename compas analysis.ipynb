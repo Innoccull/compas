{
 "cells": [
  {
   "cell_type": "markdown",
   "metadata": {},
   "source": [
    "# Responsible AI"
   ]
  },
  {
   "cell_type": "markdown",
   "metadata": {},
   "source": [
    "Responsible AI is the practice of developing and deploying AI systems in a manner that prioritises ethical considerations, fairness, transparency, accountability, and the overall well-being of individuals and society. \n",
    "\n",
    "There are a range of techniques that can be employed to do this. This notebook provides examples of how models can be developed so that they are fair and transparent. "
   ]
  },
  {
   "cell_type": "markdown",
   "metadata": {},
   "source": [
    "## Data\n",
    "\n",
    "In this notebook we will use the COMPAS dataset to demonstrate how bias in models can be identified and how more transparent models without this bias can be trained.\n",
    "\n",
    "The COMPAS dataset contains information on over 10,000 defendants assessed using the COMPAS tool in Broward County, Florida, between 2013 and 2014. It includes demographic data, criminal history, and details about prior offenses, aiming to predict the likelihood of recidivism. However, concerns have been raised regarding fairness and bias in the COMPAS predictions, as studies have shown disparities across racial and ethnic groups. It therefore provides a good basis for demonstrating how bias in datasets can be identified and mitigated.\n",
    "\n",
    "The COMPAS data used was obtained from ProPublica at https://github.com/propublica/compas-analysis."
   ]
  },
  {
   "cell_type": "code",
   "execution_count": null,
   "metadata": {},
   "outputs": [],
   "source": [
    "import pandas as pd\n",
    "\n",
    "# load conpas data and view columns\n",
    "compas_df = pd.read_csv(\"compas.csv\")\n",
    "\n",
    "#filter to recidivism only\n",
    "compas_rec_df = compas_df[compas_df['type_of_assessment'] == \"Risk of Recidivism\"]\n",
    "\n",
    "#load person data\n",
    "person_df = pd.read_csv(\"person.csv\")\n",
    "\n",
    "#view first rows\n",
    "pd.set_option('display.max_columns', None)"
   ]
  },
  {
   "cell_type": "markdown",
   "metadata": {},
   "source": [
    "## Removing Bias\n",
    "\n",
    "AI systems can inadvertently perpetuate biases present in the data they are trained on, leading to unfair or discriminatory outcomes. To address this issue, it is essential to actively identify and mitigate bias in AI models.\n",
    "\n",
    "Fairlearn (https://fairlearn.org/) is an open-source community driven project that helps improve fairness in AI systems. It does this by providing a toolkit that allows users to assess for bias in machine learning models through various metrics and through applying algorithms to trained models to mitigate bias that might be present.\n",
    "\n",
    "Below we will use Fairlearn to identify bias in the predictions made by COMPAS."
   ]
  },
  {
   "cell_type": "code",
   "execution_count": 1,
   "metadata": {},
   "outputs": [],
   "source": [
    "#import necessary libraries\n",
    "import fairlearn\n",
    "import sklearn\n",
    "\n",
    "# create a df to test fairness of predictions\n",
    "fairness_test_df = person_df[['race', 'decile_score', 'is_recid']]\n",
    "\n",
    "#filter out rows with unknown recidivism\n",
    "fairness_test_df = fairness_test_df[fairness_test_df['is_recid'] != -1]\n",
    "\n",
    "#function to set recidivism prediction based on compas decile score\n",
    "# 1-5 = not recidivate coded as 0\n",
    "# 6-10 = recidivate coded as 1\n",
    "\n",
    "def compas_pred(decile_score):\n",
    "    if 0 <= decile_score <= 5:\n",
    "        return 0\n",
    "    else:\n",
    "        return 1\n",
    "    \n",
    "#apply function\n",
    "fairness_test_df['compas_pred'] = fairness_test_df.apply(lambda x: compas_pred(x['decile_score']), axis=1)\n",
    "\n",
    "#drop decile score\n",
    "fairness_test_df = fairness_test_df.drop('decile_score', axis=1)\n",
    "\n",
    "#view dataframe\n",
    "fairness_test_df.head()"
   ]
  },
  {
   "cell_type": "markdown",
   "metadata": {},
   "source": [
    "We will use Fairlearn to test for two key metrics that can help us understand if there is bias in the predictions made by the COMPAS model: equalised odds and false positive rate.\n",
    "\n",
    "*Equalised Odds* is a metric that tests whether a prediction model provides similar accuracy for different groups. \n",
    "\n",
    "*False positive rate* is..."
   ]
  },
  {
   "cell_type": "code",
   "execution_count": 25,
   "metadata": {},
   "outputs": [],
   "source": [
    "#import fairlearn fairness assessment libraries\n",
    "\n",
    "from fairlearn.metrics import MetricFrame\n",
    "from fairlearn.metrics import count, false_positive_rate, true_positive_rate, equalized_odds_difference\n",
    "\n",
    "y_true = fairness_test_df['is_recid']\n",
    "y_pred = fairness_test_df['compas_pred']\n",
    "sf_data = fairness_test_df['race']\n",
    "\n",
    "#common metrics\n",
    "metrics = {\n",
    "    'fpr' : false_positive_rate,\n",
    "    'tpr' : true_positive_rate,\n",
    "    'count' : count\n",
    "}\n",
    "\n",
    "metric_frame = MetricFrame(\n",
    "    metrics=metrics,\n",
    "    y_true = y_true,\n",
    "    y_pred = y_pred,\n",
    "    sensitive_features = sf_data\n",
    ")\n",
    "\n",
    "\n",
    "#equalised odds\n",
    "eq_odds = equalized_odds_difference(y_true, y_pred,sensitive_features=sf_data)"
   ]
  },
  {
   "cell_type": "markdown",
   "metadata": {},
   "source": [
    "Examining equalised odds can give a quick indication if there is bias in outcomes."
   ]
  },
  {
   "cell_type": "code",
   "execution_count": 29,
   "metadata": {},
   "outputs": [
    {
     "data": {
      "text/plain": [
       "0.5224775224775225"
      ]
     },
     "execution_count": 29,
     "metadata": {},
     "output_type": "execute_result"
    }
   ],
   "source": [
    "eq_odds"
   ]
  },
  {
   "cell_type": "markdown",
   "metadata": {},
   "source": [
    "Equalised odds here calculates the difference in rates between groups and reports the biggest difference. This large equalised odds score indicates bias in the dataset. Checking the entire frame will illuminate where this is."
   ]
  },
  {
   "cell_type": "code",
   "execution_count": 26,
   "metadata": {},
   "outputs": [
    {
     "data": {
      "text/html": [
       "<div>\n",
       "<style scoped>\n",
       "    .dataframe tbody tr th:only-of-type {\n",
       "        vertical-align: middle;\n",
       "    }\n",
       "\n",
       "    .dataframe tbody tr th {\n",
       "        vertical-align: top;\n",
       "    }\n",
       "\n",
       "    .dataframe thead th {\n",
       "        text-align: right;\n",
       "    }\n",
       "</style>\n",
       "<table border=\"1\" class=\"dataframe\">\n",
       "  <thead>\n",
       "    <tr style=\"text-align: right;\">\n",
       "      <th></th>\n",
       "      <th>fpr</th>\n",
       "      <th>tpr</th>\n",
       "      <th>count</th>\n",
       "    </tr>\n",
       "    <tr>\n",
       "      <th>race</th>\n",
       "      <th></th>\n",
       "      <th></th>\n",
       "      <th></th>\n",
       "    </tr>\n",
       "  </thead>\n",
       "  <tbody>\n",
       "    <tr>\n",
       "      <th>African-American</th>\n",
       "      <td>0.400782</td>\n",
       "      <td>0.618391</td>\n",
       "      <td>5501.0</td>\n",
       "    </tr>\n",
       "    <tr>\n",
       "      <th>Asian</th>\n",
       "      <td>0.071429</td>\n",
       "      <td>0.545455</td>\n",
       "      <td>53.0</td>\n",
       "    </tr>\n",
       "    <tr>\n",
       "      <th>Caucasian</th>\n",
       "      <td>0.179919</td>\n",
       "      <td>0.392103</td>\n",
       "      <td>3818.0</td>\n",
       "    </tr>\n",
       "    <tr>\n",
       "      <th>Hispanic</th>\n",
       "      <td>0.159091</td>\n",
       "      <td>0.325670</td>\n",
       "      <td>1009.0</td>\n",
       "    </tr>\n",
       "    <tr>\n",
       "      <th>Native American</th>\n",
       "      <td>0.217391</td>\n",
       "      <td>0.769231</td>\n",
       "      <td>36.0</td>\n",
       "    </tr>\n",
       "    <tr>\n",
       "      <th>Other</th>\n",
       "      <td>0.109208</td>\n",
       "      <td>0.246753</td>\n",
       "      <td>621.0</td>\n",
       "    </tr>\n",
       "  </tbody>\n",
       "</table>\n",
       "</div>"
      ],
      "text/plain": [
       "                       fpr       tpr   count\n",
       "race                                        \n",
       "African-American  0.400782  0.618391  5501.0\n",
       "Asian             0.071429  0.545455    53.0\n",
       "Caucasian         0.179919  0.392103  3818.0\n",
       "Hispanic          0.159091  0.325670  1009.0\n",
       "Native American   0.217391  0.769231    36.0\n",
       "Other             0.109208  0.246753   621.0"
      ]
     },
     "execution_count": 26,
     "metadata": {},
     "output_type": "execute_result"
    }
   ],
   "source": [
    "metric_frame.by_group"
   ]
  },
  {
   "cell_type": "markdown",
   "metadata": {},
   "source": [
    "Equalised odds is reporting the difference in true positives rates between Native American and 'Other'. However we see significant disparity across both false positive and true positive rates that represent prolematic bias."
   ]
  },
  {
   "cell_type": "code",
   "execution_count": 32,
   "metadata": {},
   "outputs": [
    {
     "data": {
      "text/plain": [
       "array([[<Axes: title={'center': 'fpr'}, xlabel='race'>]], dtype=object)"
      ]
     },
     "execution_count": 32,
     "metadata": {},
     "output_type": "execute_result"
    },
    {
     "data": {
      "image/png": "[encoded data removed]",
      "text/plain": [
       "<Figure size 1200x800 with 1 Axes>"
      ]
     },
     "metadata": {},
     "output_type": "display_data"
    }
   ],
   "source": [
    "# Customize plots with kind (note that we are only plotting the \"count\" metric here because we are showing a pie chart)\n",
    "metric_frame.by_group[[\"fpr\"]].plot(\n",
    "    kind=\"bar\",\n",
    "    subplots=True,\n",
    "    layout=[1, 1],\n",
    "    legend=False,\n",
    "    figsize=[12, 8],\n",
    "    title=\"Show count metric in pie chart\",\n",
    ")"
   ]
  },
  {
   "cell_type": "markdown",
   "metadata": {},
   "source": [
    "Based on this assessment, we see that false positive rates across groups are not equal. This means that COMPAS incorrectly predicts that defendants will recidivate at different rates across groups, meaning that some groups will be more incorrectly incarcereated than others."
   ]
  },
  {
   "cell_type": "markdown",
   "metadata": {},
   "source": [
    "### AI Fairness 360"
   ]
  },
  {
   "cell_type": "code",
   "execution_count": 1,
   "metadata": {},
   "outputs": [
    {
     "name": "stderr",
     "output_type": "stream",
     "text": [
      "WARNING:root:No module named 'tempeh': LawSchoolGPADataset will be unavailable. To install, run:\n",
      "pip install 'aif360[LawSchoolGPA]'\n"
     ]
    }
   ],
   "source": [
    "from aif360 import explainers"
   ]
  },
  {
   "cell_type": "markdown",
   "metadata": {},
   "source": [
    "Apply fairness metrics with AI Fairness 360."
   ]
  },
  {
   "cell_type": "markdown",
   "metadata": {},
   "source": []
  },
  {
   "cell_type": "markdown",
   "metadata": {},
   "source": [
    "# Mitigating Bias"
   ]
  },
  {
   "cell_type": "markdown",
   "metadata": {},
   "source": [
    "Bias mitigation comes in many forms. It can be applied pre-processing or post-processing.\n",
    "\n",
    "We will not mitigate bias in the COMPAS model itself as we don't have access, however we can train a new model and mitigate bias within that model as a demonstration of how this can be applied in practice."
   ]
  },
  {
   "cell_type": "markdown",
   "metadata": {},
   "source": [
    "### Train a new model\n",
    "\n",
    "We will need a new model as the beginning of producing recidivism predictions without bias. This is needed since all we have with COMPAS is the score and a suggestion of what the input data is. We do not have the model itself.\n",
    "\n",
    "To do this we will use InterpretML, a python package for training AI models that are easier to interpret."
   ]
  },
  {
   "cell_type": "code",
   "execution_count": 27,
   "metadata": {},
   "outputs": [],
   "source": [
    "keep_cols = ['sex', 'race', 'age', 'age_cat', 'juv_fel_count', 'juv_misd_count', 'juv_other_count', 'priors_count', 'c_charge_degree', 'c_charge_desc', 'is_recid']\n",
    "train_df = person_df[keep_cols]\n",
    "#filter out rows with unknown recidivism\n",
    "train_df = train_df[train_df['is_recid'] != -1]"
   ]
  },
  {
   "cell_type": "code",
   "execution_count": 28,
   "metadata": {},
   "outputs": [
    {
     "data": {
      "text/html": [
       "<div>\n",
       "<style scoped>\n",
       "    .dataframe tbody tr th:only-of-type {\n",
       "        vertical-align: middle;\n",
       "    }\n",
       "\n",
       "    .dataframe tbody tr th {\n",
       "        vertical-align: top;\n",
       "    }\n",
       "\n",
       "    .dataframe thead th {\n",
       "        text-align: right;\n",
       "    }\n",
       "</style>\n",
       "<table border=\"1\" class=\"dataframe\">\n",
       "  <thead>\n",
       "    <tr style=\"text-align: right;\">\n",
       "      <th></th>\n",
       "      <th>sex</th>\n",
       "      <th>race</th>\n",
       "      <th>age</th>\n",
       "      <th>age_cat</th>\n",
       "      <th>juv_fel_count</th>\n",
       "      <th>juv_misd_count</th>\n",
       "      <th>juv_other_count</th>\n",
       "      <th>priors_count</th>\n",
       "      <th>c_charge_degree</th>\n",
       "      <th>c_charge_desc</th>\n",
       "      <th>is_recid</th>\n",
       "    </tr>\n",
       "  </thead>\n",
       "  <tbody>\n",
       "    <tr>\n",
       "      <th>0</th>\n",
       "      <td>Male</td>\n",
       "      <td>Other</td>\n",
       "      <td>69</td>\n",
       "      <td>Greater than 45</td>\n",
       "      <td>0</td>\n",
       "      <td>0</td>\n",
       "      <td>0</td>\n",
       "      <td>0</td>\n",
       "      <td>(F3)</td>\n",
       "      <td>Aggravated Assault w/Firearm</td>\n",
       "      <td>0</td>\n",
       "    </tr>\n",
       "    <tr>\n",
       "      <th>2</th>\n",
       "      <td>Male</td>\n",
       "      <td>African-American</td>\n",
       "      <td>34</td>\n",
       "      <td>25 - 45</td>\n",
       "      <td>0</td>\n",
       "      <td>0</td>\n",
       "      <td>0</td>\n",
       "      <td>0</td>\n",
       "      <td>(F3)</td>\n",
       "      <td>Felony Battery w/Prior Convict</td>\n",
       "      <td>1</td>\n",
       "    </tr>\n",
       "    <tr>\n",
       "      <th>3</th>\n",
       "      <td>Male</td>\n",
       "      <td>African-American</td>\n",
       "      <td>24</td>\n",
       "      <td>Less than 25</td>\n",
       "      <td>0</td>\n",
       "      <td>0</td>\n",
       "      <td>1</td>\n",
       "      <td>4</td>\n",
       "      <td>(F3)</td>\n",
       "      <td>Possession of Cocaine</td>\n",
       "      <td>1</td>\n",
       "    </tr>\n",
       "    <tr>\n",
       "      <th>4</th>\n",
       "      <td>Male</td>\n",
       "      <td>African-American</td>\n",
       "      <td>23</td>\n",
       "      <td>Less than 25</td>\n",
       "      <td>0</td>\n",
       "      <td>1</td>\n",
       "      <td>0</td>\n",
       "      <td>1</td>\n",
       "      <td>(F3)</td>\n",
       "      <td>Possession of Cannabis</td>\n",
       "      <td>0</td>\n",
       "    </tr>\n",
       "    <tr>\n",
       "      <th>5</th>\n",
       "      <td>Male</td>\n",
       "      <td>Other</td>\n",
       "      <td>43</td>\n",
       "      <td>25 - 45</td>\n",
       "      <td>0</td>\n",
       "      <td>0</td>\n",
       "      <td>0</td>\n",
       "      <td>2</td>\n",
       "      <td>(F7)</td>\n",
       "      <td>arrest case no charge</td>\n",
       "      <td>0</td>\n",
       "    </tr>\n",
       "  </tbody>\n",
       "</table>\n",
       "</div>"
      ],
      "text/plain": [
       "    sex              race  age          age_cat  juv_fel_count  \\\n",
       "0  Male             Other   69  Greater than 45              0   \n",
       "2  Male  African-American   34          25 - 45              0   \n",
       "3  Male  African-American   24     Less than 25              0   \n",
       "4  Male  African-American   23     Less than 25              0   \n",
       "5  Male             Other   43          25 - 45              0   \n",
       "\n",
       "   juv_misd_count  juv_other_count  priors_count c_charge_degree  \\\n",
       "0               0                0             0            (F3)   \n",
       "2               0                0             0            (F3)   \n",
       "3               0                1             4            (F3)   \n",
       "4               1                0             1            (F3)   \n",
       "5               0                0             2            (F7)   \n",
       "\n",
       "                    c_charge_desc  is_recid  \n",
       "0    Aggravated Assault w/Firearm         0  \n",
       "2  Felony Battery w/Prior Convict         1  \n",
       "3           Possession of Cocaine         1  \n",
       "4          Possession of Cannabis         0  \n",
       "5           arrest case no charge         0  "
      ]
     },
     "execution_count": 28,
     "metadata": {},
     "output_type": "execute_result"
    }
   ],
   "source": [
    "train_df.head()"
   ]
  },
  {
   "cell_type": "code",
   "execution_count": 33,
   "metadata": {},
   "outputs": [],
   "source": [
    "from sklearn.model_selection import train_test_split\n",
    "\n",
    "train, test = train_test_split(train_df, test_size=0.2)\n",
    "\n",
    "x_train = train.loc[:, train.columns != 'is_recid']\n",
    "y_train = train.loc[:, train.columns == 'is_recid']\n",
    "\n",
    "x_test = test.loc[:, test.columns != 'is_recid']\n",
    "y_test = test.loc[:, test.columns == 'is_recid']"
   ]
  },
  {
   "cell_type": "code",
   "execution_count": 37,
   "metadata": {},
   "outputs": [
    {
     "name": "stderr",
     "output_type": "stream",
     "text": [
      "c:\\Users\\chris\\anaconda3\\lib\\site-packages\\interpret\\glassbox\\_ebm\\_ebm.py:666: UserWarning:\n",
      "\n",
      "Missing values detected. Our visualizations do not currently display missing values. To retain the glassbox nature of the model you need to either set the missing values to an extreme value like -1000 that will be visible on the graphs, or manually examine the missing value score in ebm.term_scores_[term_index][0]\n",
      "\n"
     ]
    },
    {
     "data": {
      "text/html": [
       "<style>#sk-container-id-5 {color: black;background-color: white;}#sk-container-id-5 pre{padding: 0;}#sk-container-id-5 div.sk-toggleable {background-color: white;}#sk-container-id-5 label.sk-toggleable__label {cursor: pointer;display: block;width: 100%;margin-bottom: 0;padding: 0.3em;box-sizing: border-box;text-align: center;}#sk-container-id-5 label.sk-toggleable__label-arrow:before {content: \"▸\";float: left;margin-right: 0.25em;color: #696969;}#sk-container-id-5 label.sk-toggleable__label-arrow:hover:before {color: black;}#sk-container-id-5 div.sk-estimator:hover label.sk-toggleable__label-arrow:before {color: black;}#sk-container-id-5 div.sk-toggleable__content {max-height: 0;max-width: 0;overflow: hidden;text-align: left;background-color: #f0f8ff;}#sk-container-id-5 div.sk-toggleable__content pre {margin: 0.2em;color: black;border-radius: 0.25em;background-color: #f0f8ff;}#sk-container-id-5 input.sk-toggleable__control:checked~div.sk-toggleable__content {max-height: 200px;max-width: 100%;overflow: auto;}#sk-container-id-5 input.sk-toggleable__control:checked~label.sk-toggleable__label-arrow:before {content: \"▾\";}#sk-container-id-5 div.sk-estimator input.sk-toggleable__control:checked~label.sk-toggleable__label {background-color: #d4ebff;}#sk-container-id-5 div.sk-label input.sk-toggleable__control:checked~label.sk-toggleable__label {background-color: #d4ebff;}#sk-container-id-5 input.sk-hidden--visually {border: 0;clip: rect(1px 1px 1px 1px);clip: rect(1px, 1px, 1px, 1px);height: 1px;margin: -1px;overflow: hidden;padding: 0;position: absolute;width: 1px;}#sk-container-id-5 div.sk-estimator {font-family: monospace;background-color: #f0f8ff;border: 1px dotted black;border-radius: 0.25em;box-sizing: border-box;margin-bottom: 0.5em;}#sk-container-id-5 div.sk-estimator:hover {background-color: #d4ebff;}#sk-container-id-5 div.sk-parallel-item::after {content: \"\";width: 100%;border-bottom: 1px solid gray;flex-grow: 1;}#sk-container-id-5 div.sk-label:hover label.sk-toggleable__label {background-color: #d4ebff;}#sk-container-id-5 div.sk-serial::before {content: \"\";position: absolute;border-left: 1px solid gray;box-sizing: border-box;top: 0;bottom: 0;left: 50%;z-index: 0;}#sk-container-id-5 div.sk-serial {display: flex;flex-direction: column;align-items: center;background-color: white;padding-right: 0.2em;padding-left: 0.2em;position: relative;}#sk-container-id-5 div.sk-item {position: relative;z-index: 1;}#sk-container-id-5 div.sk-parallel {display: flex;align-items: stretch;justify-content: center;background-color: white;position: relative;}#sk-container-id-5 div.sk-item::before, #sk-container-id-5 div.sk-parallel-item::before {content: \"\";position: absolute;border-left: 1px solid gray;box-sizing: border-box;top: 0;bottom: 0;left: 50%;z-index: -1;}#sk-container-id-5 div.sk-parallel-item {display: flex;flex-direction: column;z-index: 1;position: relative;background-color: white;}#sk-container-id-5 div.sk-parallel-item:first-child::after {align-self: flex-end;width: 50%;}#sk-container-id-5 div.sk-parallel-item:last-child::after {align-self: flex-start;width: 50%;}#sk-container-id-5 div.sk-parallel-item:only-child::after {width: 0;}#sk-container-id-5 div.sk-dashed-wrapped {border: 1px dashed gray;margin: 0 0.4em 0.5em 0.4em;box-sizing: border-box;padding-bottom: 0.4em;background-color: white;}#sk-container-id-5 div.sk-label label {font-family: monospace;font-weight: bold;display: inline-block;line-height: 1.2em;}#sk-container-id-5 div.sk-label-container {text-align: center;}#sk-container-id-5 div.sk-container {/* jupyter's `normalize.less` sets `[hidden] { display: none; }` but bootstrap.min.css set `[hidden] { display: none !important; }` so we also need the `!important` here to be able to override the default hidden behavior on the sphinx rendered scikit-learn.org. See: https://github.com/scikit-learn/scikit-learn/issues/21755 */display: inline-block !important;position: relative;}#sk-container-id-5 div.sk-text-repr-fallback {display: none;}</style><div id=\"sk-container-id-5\" class=\"sk-top-container\"><div class=\"sk-text-repr-fallback\"><pre>ExplainableBoostingClassifier()</pre><b>In a Jupyter environment, please rerun this cell to show the HTML representation or trust the notebook. <br />On GitHub, the HTML representation is unable to render, please try loading this page with nbviewer.org.</b></div><div class=\"sk-container\" hidden><div class=\"sk-item\"><div class=\"sk-estimator sk-toggleable\"><input class=\"sk-toggleable__control sk-hidden--visually\" id=\"sk-estimator-id-5\" type=\"checkbox\" checked><label for=\"sk-estimator-id-5\" class=\"sk-toggleable__label sk-toggleable__label-arrow\">ExplainableBoostingClassifier</label><div class=\"sk-toggleable__content\"><pre>ExplainableBoostingClassifier()</pre></div></div></div></div></div>"
      ],
      "text/plain": [
       "ExplainableBoostingClassifier()"
      ]
     },
     "execution_count": 37,
     "metadata": {},
     "output_type": "execute_result"
    }
   ],
   "source": [
    "from interpret.glassbox import ExplainableBoostingClassifier\n",
    "from sklearn.metrics import accuracy_score, precision_score, recall_score, f1_score\n",
    "\n",
    "ebm = ExplainableBoostingClassifier()\n",
    "ebm.fit(x_train, y_train)"
   ]
  },
  {
   "cell_type": "code",
   "execution_count": 38,
   "metadata": {},
   "outputs": [],
   "source": [
    "#model performance\n",
    "y_pred = ebm.predict(x_test)"
   ]
  },
  {
   "cell_type": "code",
   "execution_count": 40,
   "metadata": {},
   "outputs": [
    {
     "name": "stdout",
     "output_type": "stream",
     "text": [
      "Accuracy: 0.7119565217391305\n",
      "Precision: 0.6831470889653037\n",
      "Recall: 0.6259236140876452\n",
      "F1 Score: 0.6306418149758231\n"
     ]
    }
   ],
   "source": [
    "# Assess the model's performance\n",
    "accuracy = accuracy_score(y_test, y_pred)\n",
    "precision = precision_score(y_test, y_pred, average='macro')\n",
    "recall = recall_score(y_test, y_pred, average='macro')\n",
    "f1 = f1_score(y_test, y_pred, average='macro')\n",
    "\n",
    "# Print the performance metrics\n",
    "print(\"Accuracy:\", accuracy)\n",
    "print(\"Precision:\", precision)\n",
    "print(\"Recall:\", recall)\n",
    "print(\"F1 Score:\", f1)"
   ]
  },
  {
   "cell_type": "markdown",
   "metadata": {},
   "source": [
    "Observe the model's explainability."
   ]
  },
  {
   "cell_type": "code",
   "execution_count": null,
   "metadata": {},
   "outputs": [],
   "source": [
    "#explain the model\n",
    "from interpret import show\n",
    "\n",
    "ebm_global = ebm.explain_global()\n",
    "show(ebm_global)"
   ]
  },
  {
   "cell_type": "markdown",
   "metadata": {},
   "source": [
    "Observe individual prediction explainability."
   ]
  },
  {
   "cell_type": "code",
   "execution_count": null,
   "metadata": {},
   "outputs": [],
   "source": [
    "ebm_local = ebm.explain_local(x_test, y_test)\n",
    "show(ebm_local)"
   ]
  },
  {
   "cell_type": "markdown",
   "metadata": {},
   "source": [
    "Perform a fairness assessment."
   ]
  },
  {
   "cell_type": "code",
   "execution_count": 46,
   "metadata": {},
   "outputs": [],
   "source": [
    "from fairlearn.metrics import MetricFrame\n",
    "from fairlearn.metrics import count, false_positive_rate, true_positive_rate, equalized_odds_difference\n",
    "\n",
    "sf_data = x_test['race']\n",
    "\n",
    "#common metrics\n",
    "metrics = {\n",
    "    'fpr' : false_positive_rate,\n",
    "    'tpr' : true_positive_rate,\n",
    "    'count' : count\n",
    "}\n",
    "\n",
    "metric_frame = MetricFrame(\n",
    "    metrics=metrics,\n",
    "    y_true = y_test,\n",
    "    y_pred = y_pred,\n",
    "    sensitive_features = sf_data\n",
    ")\n",
    "\n",
    "\n",
    "#equalised odds\n",
    "eq_odds = equalized_odds_difference(y_test, y_pred,sensitive_features=sf_data)"
   ]
  },
  {
   "cell_type": "code",
   "execution_count": 47,
   "metadata": {},
   "outputs": [
    {
     "data": {
      "text/plain": [
       "0.3787878787878788"
      ]
     },
     "execution_count": 47,
     "metadata": {},
     "output_type": "execute_result"
    }
   ],
   "source": [
    "eq_odds"
   ]
  },
  {
   "cell_type": "markdown",
   "metadata": {},
   "source": [
    "Equal odds show a difference in performance between groups."
   ]
  },
  {
   "cell_type": "code",
   "execution_count": 48,
   "metadata": {},
   "outputs": [
    {
     "data": {
      "text/html": [
       "<div>\n",
       "<style scoped>\n",
       "    .dataframe tbody tr th:only-of-type {\n",
       "        vertical-align: middle;\n",
       "    }\n",
       "\n",
       "    .dataframe tbody tr th {\n",
       "        vertical-align: top;\n",
       "    }\n",
       "\n",
       "    .dataframe thead th {\n",
       "        text-align: right;\n",
       "    }\n",
       "</style>\n",
       "<table border=\"1\" class=\"dataframe\">\n",
       "  <thead>\n",
       "    <tr style=\"text-align: right;\">\n",
       "      <th></th>\n",
       "      <th>fpr</th>\n",
       "      <th>tpr</th>\n",
       "      <th>count</th>\n",
       "    </tr>\n",
       "    <tr>\n",
       "      <th>race</th>\n",
       "      <th></th>\n",
       "      <th></th>\n",
       "      <th></th>\n",
       "    </tr>\n",
       "  </thead>\n",
       "  <tbody>\n",
       "    <tr>\n",
       "      <th>African-American</th>\n",
       "      <td>0.165165</td>\n",
       "      <td>0.457207</td>\n",
       "      <td>1110.0</td>\n",
       "    </tr>\n",
       "    <tr>\n",
       "      <th>Asian</th>\n",
       "      <td>0.000000</td>\n",
       "      <td>0.500000</td>\n",
       "      <td>9.0</td>\n",
       "    </tr>\n",
       "    <tr>\n",
       "      <th>Caucasian</th>\n",
       "      <td>0.063670</td>\n",
       "      <td>0.234146</td>\n",
       "      <td>739.0</td>\n",
       "    </tr>\n",
       "    <tr>\n",
       "      <th>Hispanic</th>\n",
       "      <td>0.062069</td>\n",
       "      <td>0.171875</td>\n",
       "      <td>209.0</td>\n",
       "    </tr>\n",
       "    <tr>\n",
       "      <th>Native American</th>\n",
       "      <td>0.000000</td>\n",
       "      <td>0.333333</td>\n",
       "      <td>10.0</td>\n",
       "    </tr>\n",
       "    <tr>\n",
       "      <th>Other</th>\n",
       "      <td>0.000000</td>\n",
       "      <td>0.121212</td>\n",
       "      <td>131.0</td>\n",
       "    </tr>\n",
       "  </tbody>\n",
       "</table>\n",
       "</div>"
      ],
      "text/plain": [
       "                       fpr       tpr   count\n",
       "race                                        \n",
       "African-American  0.165165  0.457207  1110.0\n",
       "Asian             0.000000  0.500000     9.0\n",
       "Caucasian         0.063670  0.234146   739.0\n",
       "Hispanic          0.062069  0.171875   209.0\n",
       "Native American   0.000000  0.333333    10.0\n",
       "Other             0.000000  0.121212   131.0"
      ]
     },
     "execution_count": 48,
     "metadata": {},
     "output_type": "execute_result"
    }
   ],
   "source": [
    "metric_frame.by_group"
   ]
  },
  {
   "cell_type": "markdown",
   "metadata": {},
   "source": [
    "There are significant disparities across groups for both false positive and true positive rates. From these we can observe that:\n",
    "- African-Americans have the highest false positive rate, meaning that they are more likely to be incorrectly judged recidivist.\n",
    "- Caucasian and Hispanic also show higher false positive rates, meaning they will be more likely to be incorrectly judged to be recidivist relative to Asian, Native American and Other\n",
    "- True positive rates are varied"
   ]
  }
 ],
 "metadata": {
  "kernelspec": {
   "display_name": "base",
   "language": "python",
   "name": "python3"
  },
  "language_info": {
   "codemirror_mode": {
    "name": "ipython",
    "version": 3
   },
   "file_extension": ".py",
   "mimetype": "text/x-python",
   "name": "python",
   "nbconvert_exporter": "python",
   "pygments_lexer": "ipython3",
   "version": "3.10.9"
  },
  "orig_nbformat": 4
 },
 "nbformat": 4,
 "nbformat_minor": 2
}
