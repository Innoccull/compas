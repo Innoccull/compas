{
 "cells": [
  {
   "cell_type": "markdown",
   "metadata": {},
   "source": [
    "# Identifying and Mitigating Bias in AI"
   ]
  },
  {
   "cell_type": "markdown",
   "metadata": {},
   "source": [
    "Bias in AI refers to the presence of unfair or prejudiced outcomes produced by artificial intelligence systems due to the underlying data, algorithms or design process. This bias can result in AI systems making decisions or predictions tha systematically favour or disadvantage individuals or groups based on attributes such as race, gender, age, ethnicity, religion, socioeconomic status and more.\n",
    "\n",
    "There is generally three different ways in which bias in AI systems can emerge:\n",
    "- **Bias in the data itself**: The data used to train AI models is unrepresentative or contains historical prejudices. These biases or underepresentation can be learnt by the model and perpetuated by the system it is used in.\n",
    "- **Bias within algorithms**: Algorithms themselves can introduce bias. These can emerge from the mathematical models used or the criteria used to optimise the model.\n",
    "- **Bias in the overall design of AI systems**: General design choices by developers can introduce bias. The personal beliefs or unconscious biases might influence the design process and, consequently, the behaviour of the AI system. \n",
    "\n",
    "\n",
    "Examples of bias in AI systems include:\n",
    "- Facial recognition systems that misidentify individuals with darker skin tones more often than individuals with lighter skin tones\n",
    "- Language or image generation models that generate/reinforce sexist or racist comments\n",
    "- Credit scoring algorithms that discriminate against certain demographics, leading to unequal access to financial services\n",
    "\n",
    "\n",
    "This notebook provides an example of how bias in AI models can be identified and mitigated."
   ]
  },
  {
   "cell_type": "markdown",
   "metadata": {},
   "source": [
    "## Data\n",
    "\n",
    "In this notebook we will use the COMPAS dataset to demonstrate how bias in models can be identified and how more transparent models without this bias can be trained.\n",
    "\n",
    "The COMPAS dataset contains information on over 10,000 defendants assessed using the COMPAS tool in Broward County, Florida, between 2013 and 2014. It includes demographic data, criminal history, and details about prior offenses, aiming to predict the likelihood of recidivism. However, concerns have been raised regarding fairness and bias in the COMPAS predictions, as studies have shown disparities across racial and ethnic groups. It therefore provides a good basis for demonstrating how bias in datasets can be identified and mitigated.\n",
    "\n",
    "The COMPAS data used was obtained from ProPublica at https://github.com/propublica/compas-analysis."
   ]
  },
  {
   "cell_type": "code",
   "execution_count": 80,
   "metadata": {},
   "outputs": [],
   "source": [
    "import pandas as pd\n",
    "\n",
    "# load conpas data and view columns\n",
    "compas_df = pd.read_csv(\"compas.csv\")\n",
    "\n",
    "#filter to recidivism only\n",
    "compas_rec_df = compas_df[compas_df['type_of_assessment'] == \"Risk of Recidivism\"]\n",
    "\n",
    "#load person data\n",
    "person_df = pd.read_csv(\"person.csv\")\n",
    "\n",
    "#view first rows\n",
    "pd.set_option('display.max_columns', None)"
   ]
  },
  {
   "cell_type": "markdown",
   "metadata": {},
   "source": [
    "# Detecting Bias\n",
    "\n",
    "AI systems can inadvertently perpetuate biases present in the data they are trained on, leading to unfair or discriminatory outcomes. To address this issue, it is essential to actively identify and mitigate bias in AI models.\n",
    "\n",
    "Fairlearn (https://fairlearn.org/) is an open-source community driven project that helps improve fairness in AI systems. It does this by providing a toolkit that allows users to assess for bias in machine learning models through various metrics and through applying algorithms to trained models to mitigate bias that might be present.\n",
    "\n",
    "Below we will use Fairlearn to identify bias in the predictions made by COMPAS."
   ]
  },
  {
   "cell_type": "code",
   "execution_count": 81,
   "metadata": {},
   "outputs": [
    {
     "data": {
      "text/html": [
       "<div>\n",
       "<style scoped>\n",
       "    .dataframe tbody tr th:only-of-type {\n",
       "        vertical-align: middle;\n",
       "    }\n",
       "\n",
       "    .dataframe tbody tr th {\n",
       "        vertical-align: top;\n",
       "    }\n",
       "\n",
       "    .dataframe thead th {\n",
       "        text-align: right;\n",
       "    }\n",
       "</style>\n",
       "<table border=\"1\" class=\"dataframe\">\n",
       "  <thead>\n",
       "    <tr style=\"text-align: right;\">\n",
       "      <th></th>\n",
       "      <th>race</th>\n",
       "      <th>is_recid</th>\n",
       "      <th>compas_pred</th>\n",
       "    </tr>\n",
       "  </thead>\n",
       "  <tbody>\n",
       "    <tr>\n",
       "      <th>0</th>\n",
       "      <td>Other</td>\n",
       "      <td>0</td>\n",
       "      <td>0</td>\n",
       "    </tr>\n",
       "    <tr>\n",
       "      <th>2</th>\n",
       "      <td>African-American</td>\n",
       "      <td>1</td>\n",
       "      <td>0</td>\n",
       "    </tr>\n",
       "    <tr>\n",
       "      <th>3</th>\n",
       "      <td>African-American</td>\n",
       "      <td>1</td>\n",
       "      <td>0</td>\n",
       "    </tr>\n",
       "    <tr>\n",
       "      <th>4</th>\n",
       "      <td>African-American</td>\n",
       "      <td>0</td>\n",
       "      <td>1</td>\n",
       "    </tr>\n",
       "    <tr>\n",
       "      <th>5</th>\n",
       "      <td>Other</td>\n",
       "      <td>0</td>\n",
       "      <td>0</td>\n",
       "    </tr>\n",
       "  </tbody>\n",
       "</table>\n",
       "</div>"
      ],
      "text/plain": [
       "               race  is_recid  compas_pred\n",
       "0             Other         0            0\n",
       "2  African-American         1            0\n",
       "3  African-American         1            0\n",
       "4  African-American         0            1\n",
       "5             Other         0            0"
      ]
     },
     "execution_count": 81,
     "metadata": {},
     "output_type": "execute_result"
    }
   ],
   "source": [
    "#import necessary libraries\n",
    "import fairlearn\n",
    "import sklearn\n",
    "\n",
    "# create a df to test fairness of predictions\n",
    "fairness_test_df = person_df[['race', 'decile_score', 'is_recid']]\n",
    "\n",
    "#filter out rows with unknown recidivism\n",
    "fairness_test_df = fairness_test_df[fairness_test_df['is_recid'] != -1]\n",
    "\n",
    "#function to set recidivism prediction based on compas decile score\n",
    "# 1-5 = not recidivate coded as 0\n",
    "# 6-10 = recidivate coded as 1\n",
    "\n",
    "def compas_pred(decile_score):\n",
    "    if 0 <= decile_score <= 5:\n",
    "        return 0\n",
    "    else:\n",
    "        return 1\n",
    "    \n",
    "#apply function\n",
    "fairness_test_df['compas_pred'] = fairness_test_df.apply(lambda x: compas_pred(x['decile_score']), axis=1)\n",
    "\n",
    "#drop decile score\n",
    "fairness_test_df = fairness_test_df.drop('decile_score', axis=1)\n",
    "\n",
    "#view dataframe\n",
    "fairness_test_df.head()"
   ]
  },
  {
   "cell_type": "markdown",
   "metadata": {},
   "source": [
    "### Fairness Metrics\n",
    "\n",
    "Fairness can have different definitions in the context of AI. However generally fairness in AI normally involves removing bias from our models so that the performance for the model is similar across all groups. Not removing bias from models can result in different treatment of groups in a way that undermines our notion of fairness. \n",
    "\n",
    "There are several different fairness metrics that can be used to identify if there is different treatment of sub-groups. \n",
    "\n",
    "| Fairness Metric     | Description                                                             | When to use                                                                                                                                                                                         |\n",
    "|---------------------|-------------------------------------------------------------------------|-----------------------------------------------------------------------------------------------------------------------------------------------------------------------------------------------------|\n",
    "| Demographic parity  | The proportion of positive cases are close for each sub-group.          | Useful for when you want different sub-groups to be equally allocated positive predictions (regardless of the accuracy of those predictions).                                                       |\n",
    "| Accuracy parity     | The accuracies of each subgroup are close to each other.                | Useful as an overall measure of the consistency of model performance across sub-groups.                                                                                                             |\n",
    "| Equalised odds      | The true positive and false positive rates are close across all groups. | The fairness concern is with the positive case being assigned accurately as disproportionate harm might occur for incorrect allocation.                                                             |\n",
    "| Equal opportunity   | The true positive rates are close for each sub-group.                   | The fairness concern is with the positive case being correctly assigned when it is assigned. The unfairness we are concerned with is primarily the harm caused by an incorrect positive prediction. |\n",
    "| Predictive equality | The false positive rates are close for each sub-group.                  | The fairness concern is specifically with assigning positive predictions  and whether assigning positive predictions could cause harm to a disadvantaged sub-group.                                 |"
   ]
  },
  {
   "cell_type": "markdown",
   "metadata": {},
   "source": [
    "#### Fairness Metrics in COMPAS\n",
    "\n",
    "The fairness metrics to use will differ depending on the specific context in which the model is proposed to be applied. Choosing the correct metric(s) will require taking into account which groups will possibly be treated unfairly and the harm that will result from this unfair treatment. \n",
    "\n",
    "In the context of COMPAS, we suspect that the African-American group may be unfairly treated by a model that predicts recidivism and the harm we are concerned with from this unfair treatment is incorrect imprisonment or more severe sentencing that might emerge from being incorrectly being labeled a risk of recidivism. \n",
    "\n",
    "Given this context, we are concerned with the accuracy of positive predictions as a criterion of fairness meaning we will use the *equalised odds* and *predictive equality* metrics to assess the COMPAS model for fairness.\n",
    "- The implementation of equalised odds used here will calculate the difference between true positive and false positive rates of different groups and report the largest gap. A higher number reported will represent a larger gap in the accuracy of positive predictions.\n",
    "- Predictive equality will be examined simply by calculating the false positive rate for each sub-group and reporting the absolute difference between groups "
   ]
  },
  {
   "cell_type": "code",
   "execution_count": 82,
   "metadata": {},
   "outputs": [
    {
     "name": "stdout",
     "output_type": "stream",
     "text": [
      "0.5224775224775225\n"
     ]
    }
   ],
   "source": [
    "#import fairlearn fairness assessment libraries\n",
    "from sklearn.metrics import accuracy_score\n",
    "from fairlearn.metrics import MetricFrame\n",
    "from fairlearn.metrics import count, false_positive_rate, true_positive_rate,equalized_odds_difference\n",
    "\n",
    "y_true = fairness_test_df['is_recid']\n",
    "y_pred = fairness_test_df['compas_pred']\n",
    "sf_data = fairness_test_df['race']\n",
    "\n",
    "#common metrics\n",
    "metrics = {\n",
    "    'acc' : accuracy_score,\n",
    "    'fpr' : false_positive_rate,\n",
    "    'tpr' : true_positive_rate,\n",
    "    'count' : count\n",
    "}\n",
    "\n",
    "metric_frame = MetricFrame(\n",
    "    metrics=metrics,\n",
    "    y_true = y_true,\n",
    "    y_pred = y_pred,\n",
    "    sensitive_features = sf_data\n",
    ")\n",
    "\n",
    "\n",
    "#equalised odds\n",
    "eq_odds = equalized_odds_difference(y_true, y_pred,sensitive_features=sf_data)\n",
    "\n",
    "#view equalised odds score\n",
    "print(eq_odds)"
   ]
  },
  {
   "cell_type": "markdown",
   "metadata": {},
   "source": [
    "An equalised odds score of around 0.5 means that the largest gap in positive prediction performance between two sub-groups is 50%. At a glance, this tells us that the model is not performing across well for positive predictions. The next step is to examine more detailed metrics across all groups to see where the model is failing."
   ]
  },
  {
   "cell_type": "code",
   "execution_count": 83,
   "metadata": {},
   "outputs": [
    {
     "name": "stdout",
     "output_type": "stream",
     "text": [
      "                       acc       fpr       tpr   count\n",
      "race                                                  \n",
      "African-American  0.606799  0.400782  0.618391  5501.0\n",
      "Asian             0.849057  0.071429  0.545455    53.0\n",
      "Caucasian         0.698009  0.179919  0.392103  3818.0\n",
      "Hispanic          0.707631  0.159091  0.325670  1009.0\n",
      "Native American   0.777778  0.217391  0.769231    36.0\n",
      "Other             0.731079  0.109208  0.246753   621.0\n"
     ]
    }
   ],
   "source": [
    "#print metrics\n",
    "print(metric_frame.by_group)"
   ]
  },
  {
   "cell_type": "markdown",
   "metadata": {},
   "source": [
    "This more detailed view shows us the ways in which the COMPAS predictions exhibit bias. \n",
    "\n",
    "The disparity between groups in true positive rates shows how the **equalised odds** metric was produced. The true positive rates for 'Other' and 'Native American' are 0.24 and 0.76 respectively, a difference of 0.52. While there are other varying differences in error rates between groups, only the highest difference was reported.\n",
    "\n",
    "\n",
    "To produce our **predictive equality** metric we can compare false positive rates between groups. We can see that the COMPAS predictions have a high false positive rate for African-Americans compared to other groups (0.4 for African-Ameicans, with the next closest group at 0.21, half the false positive rate). The smallest false positive rate is 0.07 for the Asian sub-group which produces an overall predictive equality difference of 0.33.\n",
    "\n",
    "Whether differences of the above \n",
    "\n",
    "#### Other ways of reporting fairness metrics\n",
    "The approach taken here was to report fairness metrics as the largest difference in error rates between groups. There are other a couple of considerations for other approaches that could have been taken.\n",
    "\n",
    ">\n",
    ">Difference between one group against many \n",
    ">\n",
    ">We could compare the difference between the African-American group and all other groups combined. This approach would not involve a comparison across all groups but just between a 'unprivileged' group and all other groups combined.\n",
    ">\n",
    "\n",
    ">Standardised comparison \n",
    ">\n",
    "> We could divide the error rate for one group by the error rate for the privileged group to produce a ratio. This ratio would tell us how well the model performs for each sub-group in comparison to the privileged group. If comparative model performance is below a defined threshold then we could consider that reason for intervention.\n",
    "\n"
   ]
  },
  {
   "cell_type": "markdown",
   "metadata": {},
   "source": [
    "Finally, Fairlearn supports some basic plotting for visualising the metrics generated. Below the false positive rates for the false positive rate across sub-groups."
   ]
  },
  {
   "cell_type": "code",
   "execution_count": 84,
   "metadata": {},
   "outputs": [
    {
     "data": {
      "text/plain": [
       "array([[<Axes: title={'center': 'fpr'}, xlabel='race'>]], dtype=object)"
      ]
     },
     "execution_count": 84,
     "metadata": {},
     "output_type": "execute_result"
    },
    {
     "data": {
      "image/png": "[encoded data removed]",
      "text/plain": [
       "<Figure size 1200x800 with 1 Axes>"
      ]
     },
     "metadata": {},
     "output_type": "display_data"
    }
   ],
   "source": [
    "#visualise the false positive rate by race\n",
    "#barplot of false positive rate\n",
    "metric_frame.by_group[[\"fpr\"]].plot(\n",
    "    kind=\"bar\",\n",
    "    subplots=True,\n",
    "    layout=[1, 1],\n",
    "    legend=False,\n",
    "    figsize=[12, 8],\n",
    "    title=\"False positive rate by race\",\n",
    ")"
   ]
  },
  {
   "cell_type": "markdown",
   "metadata": {},
   "source": [
    "# Mitigating Bias"
   ]
  },
  {
   "cell_type": "markdown",
   "metadata": {},
   "source": [
    "There are three different stages of model development where we can mitigate bias:\n",
    "- ***Pre-processing***: Manipulating the data we use to train a model to remove bias before it is fed into model training\n",
    "- ***In-processing***: Bias mitigation techniques applied to model training\n",
    "- ***Post-processing***: Bias mitigation techniques after the model has been trained\n",
    "\n",
    "The table below provides an overview of some bias mitigation techniques that can be applied at each stage.\n",
    "\n",
    "| Stage           | Technique              | Description                                                                                                                                                                                                                                                                                                                        |\n",
    "|-----------------|------------------------|------------------------------------------------------------------------------------------------------------------------------------------------------------------------------------------------------------------------------------------------------------------------------------------------------------------------------------|\n",
    "| Preprocessing   | Correlation removal    | Removes correlation between sensitive and other features. This can remove bias against unprivileged groups that can be embedeed in other attributes.                                                                                                                                                                               |\n",
    "| Preprocessing   | Resampling             | Under and/or oversampling in order to increase/decrease representation of sub-groups in the dataset so that error rates are improved                                                                                                                                                                                               |\n",
    "| Preprocessing   | Reweighting            | Produce observation weights that can be passed through to a modelling method that accepts weights. This creates a new weighting variable that can be used as an input to model training.                                                                                                                                           |\n",
    "| In-Processing   | Gridsearch             | Test multiple model parameters to find the ones that best balance accuracy and fairness.                                                                                                                                                                                                                                           |\n",
    "| In-processing   | Unawareness            | Remove sensitive features from the model. Care should be taken with this approach as bias could be embedded in other features which could also require removal.                                                                                                                                                                    |\n",
    "| In-processing   | Adverserial debiasing  | Learns a classifier that maximises prediction accuracy and simultaneously reduces an adversary’s ability to determine the protected attribute from the predictions. This creates a fair classifier as the predictions cannot carry any group discrimination information that the adversary can exploit.                            |\n",
    "| Post-processing | Threshold optimisation | Involves adjusting the decision threshold of a binary classifier per group to achieve the desired fairness outcome. Great care should be taken with this technique as it can increase individual unfairness in that two individuals that are equal except for the sub-group they belong to will be explicitly treated differently. |\n",
    "\n",
    "The bias mitigation techniques will depend on the specific circumstances of our case however it will normally be the case that only one or two mitigation techniques will be best to apply. This is because the effects of mitigation often do not compound and the more mitigation techniques we apply to more difficult it will be to understand the model produced.\n",
    "\n",
    "***Mitigating bias in COMPAS***\n",
    "</br>\n",
    "We are not able to mitigate bias in the COMPAS model itself as we don't have access, however we will train a new model to predict recidivism based on the publicly available COMPAS data and mitigate bias within that model."
   ]
  },
  {
   "cell_type": "markdown",
   "metadata": {},
   "source": [
    "### Training a new model\n",
    "\n",
    "To train a new model, we will use InterpretML (https://interpret.ml/). InterpretML is a toolkit that enables training models that are more interpretable and explainable. \n",
    "One of the key features of responsible AI is that AI systems should be transparent. Transparency is in large part achieved by developing AI models that are interpretable and explainable.\n",
    "\n",
    ">***Interpretable AI*** is AI where humans can understand the decision-making process of an AI system. Specifically, this is about how well the inner workings of an AI system be can understood by a human.\n",
    ">\n",
    ">***Explainable AI*** refers to the ability of an AI system to provide clear and understandable justification for its decisions. Specificially the system should be able to provide a clear and transparent explanation for why it made a particular decision.\n",
    "\n",
    "\n",
    "We will use InterpretML to train a model to predict recidivism based on the COMPAS data."
   ]
  },
  {
   "cell_type": "code",
   "execution_count": 85,
   "metadata": {},
   "outputs": [
    {
     "data": {
      "text/html": [
       "<div>\n",
       "<style scoped>\n",
       "    .dataframe tbody tr th:only-of-type {\n",
       "        vertical-align: middle;\n",
       "    }\n",
       "\n",
       "    .dataframe tbody tr th {\n",
       "        vertical-align: top;\n",
       "    }\n",
       "\n",
       "    .dataframe thead th {\n",
       "        text-align: right;\n",
       "    }\n",
       "</style>\n",
       "<table border=\"1\" class=\"dataframe\">\n",
       "  <thead>\n",
       "    <tr style=\"text-align: right;\">\n",
       "      <th></th>\n",
       "      <th>sex</th>\n",
       "      <th>race</th>\n",
       "      <th>age</th>\n",
       "      <th>age_cat</th>\n",
       "      <th>juv_fel_count</th>\n",
       "      <th>juv_misd_count</th>\n",
       "      <th>juv_other_count</th>\n",
       "      <th>priors_count</th>\n",
       "      <th>c_charge_degree</th>\n",
       "      <th>c_charge_desc</th>\n",
       "      <th>is_recid</th>\n",
       "    </tr>\n",
       "  </thead>\n",
       "  <tbody>\n",
       "    <tr>\n",
       "      <th>0</th>\n",
       "      <td>Male</td>\n",
       "      <td>Other</td>\n",
       "      <td>69</td>\n",
       "      <td>Greater than 45</td>\n",
       "      <td>0</td>\n",
       "      <td>0</td>\n",
       "      <td>0</td>\n",
       "      <td>0</td>\n",
       "      <td>(F3)</td>\n",
       "      <td>Aggravated Assault w/Firearm</td>\n",
       "      <td>0</td>\n",
       "    </tr>\n",
       "    <tr>\n",
       "      <th>2</th>\n",
       "      <td>Male</td>\n",
       "      <td>African-American</td>\n",
       "      <td>34</td>\n",
       "      <td>25 - 45</td>\n",
       "      <td>0</td>\n",
       "      <td>0</td>\n",
       "      <td>0</td>\n",
       "      <td>0</td>\n",
       "      <td>(F3)</td>\n",
       "      <td>Felony Battery w/Prior Convict</td>\n",
       "      <td>1</td>\n",
       "    </tr>\n",
       "    <tr>\n",
       "      <th>3</th>\n",
       "      <td>Male</td>\n",
       "      <td>African-American</td>\n",
       "      <td>24</td>\n",
       "      <td>Less than 25</td>\n",
       "      <td>0</td>\n",
       "      <td>0</td>\n",
       "      <td>1</td>\n",
       "      <td>4</td>\n",
       "      <td>(F3)</td>\n",
       "      <td>Possession of Cocaine</td>\n",
       "      <td>1</td>\n",
       "    </tr>\n",
       "    <tr>\n",
       "      <th>4</th>\n",
       "      <td>Male</td>\n",
       "      <td>African-American</td>\n",
       "      <td>23</td>\n",
       "      <td>Less than 25</td>\n",
       "      <td>0</td>\n",
       "      <td>1</td>\n",
       "      <td>0</td>\n",
       "      <td>1</td>\n",
       "      <td>(F3)</td>\n",
       "      <td>Possession of Cannabis</td>\n",
       "      <td>0</td>\n",
       "    </tr>\n",
       "    <tr>\n",
       "      <th>5</th>\n",
       "      <td>Male</td>\n",
       "      <td>Other</td>\n",
       "      <td>43</td>\n",
       "      <td>25 - 45</td>\n",
       "      <td>0</td>\n",
       "      <td>0</td>\n",
       "      <td>0</td>\n",
       "      <td>2</td>\n",
       "      <td>(F7)</td>\n",
       "      <td>arrest case no charge</td>\n",
       "      <td>0</td>\n",
       "    </tr>\n",
       "  </tbody>\n",
       "</table>\n",
       "</div>"
      ],
      "text/plain": [
       "    sex              race  age          age_cat  juv_fel_count  \\\n",
       "0  Male             Other   69  Greater than 45              0   \n",
       "2  Male  African-American   34          25 - 45              0   \n",
       "3  Male  African-American   24     Less than 25              0   \n",
       "4  Male  African-American   23     Less than 25              0   \n",
       "5  Male             Other   43          25 - 45              0   \n",
       "\n",
       "   juv_misd_count  juv_other_count  priors_count c_charge_degree  \\\n",
       "0               0                0             0            (F3)   \n",
       "2               0                0             0            (F3)   \n",
       "3               0                1             4            (F3)   \n",
       "4               1                0             1            (F3)   \n",
       "5               0                0             2            (F7)   \n",
       "\n",
       "                    c_charge_desc  is_recid  \n",
       "0    Aggravated Assault w/Firearm         0  \n",
       "2  Felony Battery w/Prior Convict         1  \n",
       "3           Possession of Cocaine         1  \n",
       "4          Possession of Cannabis         0  \n",
       "5           arrest case no charge         0  "
      ]
     },
     "execution_count": 85,
     "metadata": {},
     "output_type": "execute_result"
    }
   ],
   "source": [
    "#identify the columns from the COMPAS data that will be kept and used for training\n",
    "keep_cols = ['sex', 'race', 'age', 'age_cat', 'juv_fel_count', 'juv_misd_count', 'juv_other_count', 'priors_count', 'c_charge_degree', 'c_charge_desc', 'is_recid']\n",
    "train_df = person_df[keep_cols]\n",
    "\n",
    "#filter out rows with unknown recidivism outcome\n",
    "train_df = train_df[train_df['is_recid'] != -1]\n",
    "\n",
    "#change Asian and Native maerican to other category as numbers too small to reliable train and test\n",
    "train_df['race'].mask(train_df['race'] == 'Asian', 'Other', inplace=True)\n",
    "train_df['race'].mask(train_df['race'] == 'Native American', 'Other', inplace=True)\n",
    "\n",
    "#remove rows with missing values\n",
    "train_df = train_df.dropna()\n",
    "\n",
    "#view data that will be used to train the model\n",
    "train_df.head()"
   ]
  },
  {
   "cell_type": "code",
   "execution_count": 86,
   "metadata": {},
   "outputs": [],
   "source": [
    "#import libraries for model training\n",
    "from sklearn.model_selection import train_test_split\n",
    "from interpret.glassbox import ExplainableBoostingClassifier\n",
    "from sklearn.metrics import accuracy_score, precision_score, recall_score, f1_score\n",
    "\n",
    "#create train/test split\n",
    "train, test = train_test_split(train_df, test_size=0.2, random_state=42)\n",
    "\n",
    "x_train = train.loc[:, train.columns != 'is_recid']\n",
    "y_train = train.loc[:, train.columns == 'is_recid']\n",
    "\n",
    "x_test = test.loc[:, test.columns != 'is_recid']\n",
    "y_test = test.loc[:, test.columns == 'is_recid']"
   ]
  },
  {
   "cell_type": "markdown",
   "metadata": {},
   "source": [
    "#### Explainable Boosting Machine (EBM)\n",
    "\n",
    "EBM is an example of a ***glassbox model*** and is what we will use to train a more transparent model\n",
    "\n",
    ">***Glassbox models*** are designed for explainability, meaning that the model can clearly explain how it made its predictions. This is in contrast to ***blackbox models*** where explanations are not direct.\n",
    "\n",
    "EBM is an additive, tree-based model that uses gradient boosting with an ensemble of decision trees. EBM models have high accuracy and allow effective visualisation of how a model makes its predictions due to their additive nature. Due to this they are very popular for training AI models that promote transparency."
   ]
  },
  {
   "cell_type": "code",
   "execution_count": 87,
   "metadata": {},
   "outputs": [
    {
     "name": "stdout",
     "output_type": "stream",
     "text": [
      "Accuracy: 0.7184377838328792\n",
      "Precision: 0.6882481376148737\n",
      "Recall: 0.6313502376827047\n",
      "F1 Score: 0.6375986009783383\n"
     ]
    }
   ],
   "source": [
    "#train a explainable boosting classifier\n",
    "ebm = ExplainableBoostingClassifier()\n",
    "ebm.fit(x_train, y_train)\n",
    "\n",
    "#model performance\n",
    "y_pred = ebm.predict(x_test)\n",
    "\n",
    "# Assess the model's performance\n",
    "accuracy = accuracy_score(y_test, y_pred)\n",
    "precision = precision_score(y_test, y_pred, average='macro')\n",
    "recall = recall_score(y_test, y_pred, average='macro')\n",
    "f1 = f1_score(y_test, y_pred, average='macro')\n",
    "\n",
    "# Print the performance metrics\n",
    "print(\"Accuracy:\", accuracy)\n",
    "print(\"Precision:\", precision)\n",
    "print(\"Recall:\", recall)\n",
    "print(\"F1 Score:\", f1)"
   ]
  },
  {
   "cell_type": "markdown",
   "metadata": {},
   "source": [
    "The model performs modestly well with all metrics ranging between 0.60 and 0.70.\n",
    "\n",
    "\n",
    "InterpretML provides both ***global*** and ***local*** visualisations that make model explanations accessible to people. ***Global*** visualisation shows which features are most important for making a prediction while ***local*** visualisation shows how the model arrived at an individual prediction. \n",
    "\n",
    "The visualisation below is provided by InterpretML and will show the overall contribution of each variable to how the model predicts its outcomes and detail on how each individual attribute contributes to the model's predictions."
   ]
  },
  {
   "cell_type": "code",
   "execution_count": 88,
   "metadata": {},
   "outputs": [
    {
     "data": {
      "text/html": [
       "<!-- http://127.0.0.1:7001/2240410093216/ -->\n",
       "<iframe src=\"http://127.0.0.1:7001/2240410093216/\" width=100% height=800 frameBorder=\"0\"></iframe>"
      ]
     },
     "metadata": {},
     "output_type": "display_data"
    }
   ],
   "source": [
    "from interpret import show\n",
    "\n",
    "#explain the overall model\n",
    "ebm_global = ebm.explain_global()\n",
    "show(ebm_global)"
   ]
  },
  {
   "cell_type": "markdown",
   "metadata": {},
   "source": [
    "From the ***global** explanation provided, we can see that:\n",
    "- Priors count, age, type of charge and race are the top predictors of whether an individual will recidivate\n",
    "- The higher the priors are, the more likely it is someone will recidivate. However interestingly fewer than 2 priors is associated with a lower likelihood to recidivate.\n",
    "- Younger ages are associated with a higher likelihood to recidivate. Those below 30 have an increased probability for recidivating while those above 30 have a decreased likelihood to recidivate.\n",
    "- Being female will reduce the probability scoring of the predictor while being male will result in a very slightly increased likelihood.\n",
    "- All races except for African-American are associated with a lower likelihood to recidivate, African-Americans will receive a higher score when predicting recidivism\n",
    "\n",
    "Next we can examine the ***local*** explanations."
   ]
  },
  {
   "cell_type": "code",
   "execution_count": 89,
   "metadata": {},
   "outputs": [
    {
     "data": {
      "text/html": [
       "<!-- http://127.0.0.1:7001/2240387383056/ -->\n",
       "<iframe src=\"http://127.0.0.1:7001/2240387383056/\" width=100% height=800 frameBorder=\"0\"></iframe>"
      ]
     },
     "metadata": {},
     "output_type": "display_data"
    }
   ],
   "source": [
    "#explain individual predictions\n",
    "ebm_local = ebm.explain_local(x_test, y_test)\n",
    "show(ebm_local)"
   ]
  },
  {
   "cell_type": "markdown",
   "metadata": {},
   "source": [
    "The local explainer shows what the model predicted for each case, the probability associated with that prediction and how each feature impacted that prediction. This provides an extremely useful explanation for human users of that prediction. \n",
    "\n",
    "For example, examining the first prediction (prediction 0) reveals that:\n",
    "- The prediction was wrong with a high level of confidence. The model predicted that the person would not recidivate with a confidence of 0.884, the person did recidivate.\n",
    "- The largest contributors that led to this high level of confidence were the fact that the individual did not have any priors, was older and female and was caucasian.\n",
    "- The interaction variable race and age slightly increase the likelihood of recidivating in this case. This demonstrates that while age and race are individually leading to a lower prediction, the interaction is capturing the nuance that being both older and caucasian actually presents a higher probability of recidivating."
   ]
  },
  {
   "cell_type": "markdown",
   "metadata": {},
   "source": [
    "#### Assessing Bias \n",
    "\n",
    "A bias assessment of the newly trained model will focus on what we assessed with COMPAS above: race will be the sensitive feature and equalised odds and predictive parity will be the metrics used for assessment."
   ]
  },
  {
   "cell_type": "code",
   "execution_count": 90,
   "metadata": {},
   "outputs": [],
   "source": [
    "#define sensitive feature\n",
    "sf_data = x_test['race']\n",
    "\n",
    "#common metrics\n",
    "metrics = {\n",
    "    'acc' : accuracy_score, \n",
    "    'fpr' : false_positive_rate,\n",
    "    'tpr' : true_positive_rate,\n",
    "    'count' : count\n",
    "}\n",
    "\n",
    "metric_frame = MetricFrame(\n",
    "    metrics=metrics,\n",
    "    y_true = y_test,\n",
    "    y_pred = y_pred,\n",
    "    sensitive_features = sf_data\n",
    ")\n",
    "\n",
    "\n",
    "#equalised odds\n",
    "eq_odds = equalized_odds_difference(y_test, y_pred,sensitive_features=sf_data)"
   ]
  },
  {
   "cell_type": "code",
   "execution_count": 91,
   "metadata": {},
   "outputs": [
    {
     "data": {
      "text/plain": [
       "0.33571428571428574"
      ]
     },
     "execution_count": 91,
     "metadata": {},
     "output_type": "execute_result"
    }
   ],
   "source": [
    "eq_odds"
   ]
  },
  {
   "cell_type": "markdown",
   "metadata": {},
   "source": [
    "An equalised odds score of 0.33 shows a disparity of model performance across sub-groups. Examining the true and false positive rates in detail will reveal where this is occurring."
   ]
  },
  {
   "cell_type": "code",
   "execution_count": 92,
   "metadata": {},
   "outputs": [
    {
     "data": {
      "text/html": [
       "<div>\n",
       "<style scoped>\n",
       "    .dataframe tbody tr th:only-of-type {\n",
       "        vertical-align: middle;\n",
       "    }\n",
       "\n",
       "    .dataframe tbody tr th {\n",
       "        vertical-align: top;\n",
       "    }\n",
       "\n",
       "    .dataframe thead th {\n",
       "        text-align: right;\n",
       "    }\n",
       "</style>\n",
       "<table border=\"1\" class=\"dataframe\">\n",
       "  <thead>\n",
       "    <tr style=\"text-align: right;\">\n",
       "      <th></th>\n",
       "      <th>acc</th>\n",
       "      <th>fpr</th>\n",
       "      <th>tpr</th>\n",
       "      <th>count</th>\n",
       "    </tr>\n",
       "    <tr>\n",
       "      <th>race</th>\n",
       "      <th></th>\n",
       "      <th></th>\n",
       "      <th></th>\n",
       "      <th></th>\n",
       "    </tr>\n",
       "  </thead>\n",
       "  <tbody>\n",
       "    <tr>\n",
       "      <th>African-American</th>\n",
       "      <td>0.676018</td>\n",
       "      <td>0.180000</td>\n",
       "      <td>0.470330</td>\n",
       "      <td>1105.0</td>\n",
       "    </tr>\n",
       "    <tr>\n",
       "      <th>Caucasian</th>\n",
       "      <td>0.755236</td>\n",
       "      <td>0.047703</td>\n",
       "      <td>0.191919</td>\n",
       "      <td>764.0</td>\n",
       "    </tr>\n",
       "    <tr>\n",
       "      <th>Hispanic</th>\n",
       "      <td>0.752577</td>\n",
       "      <td>0.021127</td>\n",
       "      <td>0.134615</td>\n",
       "      <td>194.0</td>\n",
       "    </tr>\n",
       "    <tr>\n",
       "      <th>Other</th>\n",
       "      <td>0.805755</td>\n",
       "      <td>0.056604</td>\n",
       "      <td>0.363636</td>\n",
       "      <td>139.0</td>\n",
       "    </tr>\n",
       "  </tbody>\n",
       "</table>\n",
       "</div>"
      ],
      "text/plain": [
       "                       acc       fpr       tpr   count\n",
       "race                                                  \n",
       "African-American  0.676018  0.180000  0.470330  1105.0\n",
       "Caucasian         0.755236  0.047703  0.191919   764.0\n",
       "Hispanic          0.752577  0.021127  0.134615   194.0\n",
       "Other             0.805755  0.056604  0.363636   139.0"
      ]
     },
     "execution_count": 92,
     "metadata": {},
     "output_type": "execute_result"
    }
   ],
   "source": [
    "metric_frame.by_group"
   ]
  },
  {
   "cell_type": "markdown",
   "metadata": {},
   "source": [
    "There are significant disparities across groups for both false positive and true positive rates. Most notably for our fairness assessment here is that African-Americans have the highest false positive rate, meaning that they are more likely to be incorrectly judged recidivist. The differences in false positive rates here does provide reason to utilise some of our bias mitigation techniques to increase the fairness of our model. "
   ]
  },
  {
   "cell_type": "markdown",
   "metadata": {},
   "source": [
    "### Mitigating Bias\n",
    "\n",
    "As outlined above, there are several techniques that can be used to mitigate bias in models. We will apply two such techniques here:\n",
    "- Unawareness\n",
    "- Threshold optimisation"
   ]
  },
  {
   "cell_type": "markdown",
   "metadata": {},
   "source": [
    "#### Unawareness\n",
    "\n",
    "The first technique we will apply will be unawareness, this will involve simply removing the sesitive feature (in this case race) from the dataset."
   ]
  },
  {
   "cell_type": "code",
   "execution_count": 93,
   "metadata": {},
   "outputs": [
    {
     "name": "stdout",
     "output_type": "stream",
     "text": [
      "Accuracy: 0.7175295186194369\n",
      "Precision: 0.6893146503884573\n",
      "Recall: 0.6262994802079168\n",
      "F1 Score: 0.6314900175101191\n"
     ]
    }
   ],
   "source": [
    "#get race variable\n",
    "test_race = x_test['race']\n",
    "x_train_u = x_train.drop(['race'], axis=1)\n",
    "x_test_u = x_test.drop(['race'], axis=1)\n",
    "\n",
    "#train a explainable boosting classifier\n",
    "ebm_u = ExplainableBoostingClassifier()\n",
    "ebm_u.fit(x_train_u, y_train)\n",
    "\n",
    "#model performance\n",
    "y_pred = ebm_u.predict(x_test_u)\n",
    "\n",
    "# Assess the model's performance\n",
    "accuracy = accuracy_score(y_test, y_pred)\n",
    "precision = precision_score(y_test, y_pred, average='macro')\n",
    "recall = recall_score(y_test, y_pred, average='macro')\n",
    "f1 = f1_score(y_test, y_pred, average='macro')\n",
    "\n",
    "# Print the performance metrics\n",
    "print(\"Accuracy:\", accuracy)\n",
    "print(\"Precision:\", precision)\n",
    "print(\"Recall:\", recall)\n",
    "print(\"F1 Score:\", f1)"
   ]
  },
  {
   "cell_type": "code",
   "execution_count": 94,
   "metadata": {},
   "outputs": [
    {
     "name": "stdout",
     "output_type": "stream",
     "text": [
      "0.2598901098901099\n"
     ]
    }
   ],
   "source": [
    "#common metrics\n",
    "metrics = {\n",
    "    'acc' : accuracy_score, \n",
    "    'fpr' : false_positive_rate,\n",
    "    'tpr' : true_positive_rate,\n",
    "    'count' : count\n",
    "}\n",
    "\n",
    "metric_frame = MetricFrame(\n",
    "    metrics=metrics,\n",
    "    y_true = y_test,\n",
    "    y_pred = y_pred,\n",
    "    sensitive_features = test_race\n",
    ")\n",
    "\n",
    "\n",
    "#equalised odds\n",
    "eq_odds = equalized_odds_difference(y_test, y_pred,sensitive_features=sf_data)\n",
    "\n",
    "print(eq_odds)"
   ]
  },
  {
   "cell_type": "code",
   "execution_count": 95,
   "metadata": {},
   "outputs": [
    {
     "data": {
      "text/html": [
       "<div>\n",
       "<style scoped>\n",
       "    .dataframe tbody tr th:only-of-type {\n",
       "        vertical-align: middle;\n",
       "    }\n",
       "\n",
       "    .dataframe tbody tr th {\n",
       "        vertical-align: top;\n",
       "    }\n",
       "\n",
       "    .dataframe thead th {\n",
       "        text-align: right;\n",
       "    }\n",
       "</style>\n",
       "<table border=\"1\" class=\"dataframe\">\n",
       "  <thead>\n",
       "    <tr style=\"text-align: right;\">\n",
       "      <th></th>\n",
       "      <th>acc</th>\n",
       "      <th>fpr</th>\n",
       "      <th>tpr</th>\n",
       "      <th>count</th>\n",
       "    </tr>\n",
       "    <tr>\n",
       "      <th>race</th>\n",
       "      <th></th>\n",
       "      <th></th>\n",
       "      <th></th>\n",
       "      <th></th>\n",
       "    </tr>\n",
       "  </thead>\n",
       "  <tbody>\n",
       "    <tr>\n",
       "      <th>African-American</th>\n",
       "      <td>0.677828</td>\n",
       "      <td>0.150769</td>\n",
       "      <td>0.432967</td>\n",
       "      <td>1105.0</td>\n",
       "    </tr>\n",
       "    <tr>\n",
       "      <th>Caucasian</th>\n",
       "      <td>0.755236</td>\n",
       "      <td>0.056537</td>\n",
       "      <td>0.217172</td>\n",
       "      <td>764.0</td>\n",
       "    </tr>\n",
       "    <tr>\n",
       "      <th>Hispanic</th>\n",
       "      <td>0.742268</td>\n",
       "      <td>0.049296</td>\n",
       "      <td>0.173077</td>\n",
       "      <td>194.0</td>\n",
       "    </tr>\n",
       "    <tr>\n",
       "      <th>Other</th>\n",
       "      <td>0.791367</td>\n",
       "      <td>0.047170</td>\n",
       "      <td>0.272727</td>\n",
       "      <td>139.0</td>\n",
       "    </tr>\n",
       "  </tbody>\n",
       "</table>\n",
       "</div>"
      ],
      "text/plain": [
       "                       acc       fpr       tpr   count\n",
       "race                                                  \n",
       "African-American  0.677828  0.150769  0.432967  1105.0\n",
       "Caucasian         0.755236  0.056537  0.217172   764.0\n",
       "Hispanic          0.742268  0.049296  0.173077   194.0\n",
       "Other             0.791367  0.047170  0.272727   139.0"
      ]
     },
     "execution_count": 95,
     "metadata": {},
     "output_type": "execute_result"
    }
   ],
   "source": [
    "metric_frame.by_group"
   ]
  },
  {
   "cell_type": "markdown",
   "metadata": {},
   "source": [
    "#### Threshold Optimisation\n",
    "\n",
    "Threshold optimisation will take the trained EBM model and the sensitive feature (in this case race) and produce a transformation of the model's prediction to enforce the parity constraint provided. The parity constraint is enforced by applying different classification thresholds to different classes within the sensitive feature. So in our instance African-American may have a higher probability threshold to be classified as a recidivist while Asian may a lower threshold for being classified as recidivist."
   ]
  },
  {
   "cell_type": "code",
   "execution_count": 96,
   "metadata": {},
   "outputs": [
    {
     "name": "stdout",
     "output_type": "stream",
     "text": [
      "Accuracy: 0.7125340599455041\n",
      "Precision: 0.6867206376006019\n",
      "Recall: 0.6127993247145587\n",
      "F1 Score: 0.6143664252951252\n"
     ]
    }
   ],
   "source": [
    "from fairlearn.postprocessing import ThresholdOptimizer, plot_threshold_optimizer\n",
    "\n",
    "#create optimiser\n",
    "postprocess_est = ThresholdOptimizer(\n",
    "                    estimator=ebm,\n",
    "                    constraints=\"false_positive_rate_parity\",\n",
    "                    prefit=True,\n",
    "                    predict_method=\"predict_proba\"\n",
    ")\n",
    "\n",
    "#define sensitive feature for training\n",
    "sensitive_features = x_train['race']\n",
    "\n",
    "#train model with fairness constraint\n",
    "fair_ebm = postprocess_est.fit(x_train, y_train, sensitive_features=sensitive_features)\n",
    "\n",
    "\n",
    "#define sensitive feature for predictions\n",
    "sensitive_features = x_test['race']\n",
    "\n",
    "#make predictions with updated model\n",
    "y_pred = fair_ebm.predict(x_test, sensitive_features=sensitive_features)\n",
    "\n",
    "#assess the model's performance\n",
    "accuracy = accuracy_score(y_test, y_pred)\n",
    "precision = precision_score(y_test, y_pred, average='macro')\n",
    "recall = recall_score(y_test, y_pred, average='macro')\n",
    "f1 = f1_score(y_test, y_pred, average='macro')\n",
    "\n",
    "# Print the performance metrics\n",
    "print(\"Accuracy:\", accuracy)\n",
    "print(\"Precision:\", precision)\n",
    "print(\"Recall:\", recall)\n",
    "print(\"F1 Score:\", f1)"
   ]
  },
  {
   "cell_type": "code",
   "execution_count": 97,
   "metadata": {},
   "outputs": [
    {
     "name": "stdout",
     "output_type": "stream",
     "text": [
      "0.2676767676767676\n"
     ]
    }
   ],
   "source": [
    "#define sensitive features\n",
    "sf_data = x_test['race']\n",
    "\n",
    "#common metrics\n",
    "metrics = {\n",
    "    'acc' : accuracy_score,\n",
    "    'fpr' : false_positive_rate,\n",
    "    'count' : count\n",
    "}\n",
    "\n",
    "metric_frame = MetricFrame(\n",
    "    metrics=metrics,\n",
    "    y_true = y_test,\n",
    "    y_pred = y_pred,\n",
    "    sensitive_features = sf_data\n",
    ")\n",
    "\n",
    "#equalised odds\n",
    "eq_odds = equalized_odds_difference(y_test, y_pred,sensitive_features=sf_data)\n",
    "\n",
    "print(eq_odds)"
   ]
  },
  {
   "cell_type": "code",
   "execution_count": 98,
   "metadata": {},
   "outputs": [
    {
     "data": {
      "text/html": [
       "<div>\n",
       "<style scoped>\n",
       "    .dataframe tbody tr th:only-of-type {\n",
       "        vertical-align: middle;\n",
       "    }\n",
       "\n",
       "    .dataframe tbody tr th {\n",
       "        vertical-align: top;\n",
       "    }\n",
       "\n",
       "    .dataframe thead th {\n",
       "        text-align: right;\n",
       "    }\n",
       "</style>\n",
       "<table border=\"1\" class=\"dataframe\">\n",
       "  <thead>\n",
       "    <tr style=\"text-align: right;\">\n",
       "      <th></th>\n",
       "      <th>acc</th>\n",
       "      <th>fpr</th>\n",
       "      <th>count</th>\n",
       "    </tr>\n",
       "    <tr>\n",
       "      <th>race</th>\n",
       "      <th></th>\n",
       "      <th></th>\n",
       "      <th></th>\n",
       "    </tr>\n",
       "  </thead>\n",
       "  <tbody>\n",
       "    <tr>\n",
       "      <th>African-American</th>\n",
       "      <td>0.656109</td>\n",
       "      <td>0.101538</td>\n",
       "      <td>1105.0</td>\n",
       "    </tr>\n",
       "    <tr>\n",
       "      <th>Caucasian</th>\n",
       "      <td>0.763089</td>\n",
       "      <td>0.067138</td>\n",
       "      <td>764.0</td>\n",
       "    </tr>\n",
       "    <tr>\n",
       "      <th>Hispanic</th>\n",
       "      <td>0.762887</td>\n",
       "      <td>0.063380</td>\n",
       "      <td>194.0</td>\n",
       "    </tr>\n",
       "    <tr>\n",
       "      <th>Other</th>\n",
       "      <td>0.812950</td>\n",
       "      <td>0.103774</td>\n",
       "      <td>139.0</td>\n",
       "    </tr>\n",
       "  </tbody>\n",
       "</table>\n",
       "</div>"
      ],
      "text/plain": [
       "                       acc       fpr   count\n",
       "race                                        \n",
       "African-American  0.656109  0.101538  1105.0\n",
       "Caucasian         0.763089  0.067138   764.0\n",
       "Hispanic          0.762887  0.063380   194.0\n",
       "Other             0.812950  0.103774   139.0"
      ]
     },
     "execution_count": 98,
     "metadata": {},
     "output_type": "execute_result"
    }
   ],
   "source": [
    "#view metrics\n",
    "metric_frame.by_group"
   ]
  },
  {
   "cell_type": "markdown",
   "metadata": {},
   "source": [
    "Fairlearn also provides the ability to visualise the decision the tradeoff that has been made through optimisation. \n",
    "\n",
    "The plot below shows that a choice for a lower false positive rates across all groups was chosen at the cost of overall accuracy across all groups. In the context of COMPAS this would mean that fewer people would be incorrectly judged as likely to recidivate but that there would be more people who are likely to recidivate that were incorrectly judged likely not to. This highlights the potential trade-off that may be required when mitigating bias."
   ]
  },
  {
   "cell_type": "code",
   "execution_count": 99,
   "metadata": {},
   "outputs": [
    {
     "data": {
      "image/png": "[encoded data removed]",
      "text/plain": [
       "<Figure size 640x480 with 1 Axes>"
      ]
     },
     "metadata": {},
     "output_type": "display_data"
    }
   ],
   "source": [
    "plot_threshold_optimizer(fair_ebm)"
   ]
  },
  {
   "cell_type": "markdown",
   "metadata": {},
   "source": [
    "# Summary\n",
    "\n",
    "The table below provides a summary of the performance of the base model and the two bias mitigation techniques applied.\n",
    "\n",
    "| Model                  | Accuracy | Equalised Odds | False Positive Disparity |\n",
    "|------------------------|----------|----------------|--------------------------|\n",
    "| Base                   | 0.72     | 0.34           | 0.16                     |\n",
    "| Unawareness            | 0.72     | 0.26           | 0.10                     |\n",
    "| Threshold Optimisation | 0.71     | 0.28           | 0.03                     |\n",
    "\n",
    "As can be seen, applying bias mitigation techniques improves the fairness of the model. Both the equalised odds and false positive disparity rates are reduced with the mitigation techniques applied without an accuracy trade-off."
   ]
  }
 ],
 "metadata": {
  "kernelspec": {
   "display_name": "base",
   "language": "python",
   "name": "python3"
  },
  "language_info": {
   "codemirror_mode": {
    "name": "ipython",
    "version": 3
   },
   "file_extension": ".py",
   "mimetype": "text/x-python",
   "name": "python",
   "nbconvert_exporter": "python",
   "pygments_lexer": "ipython3",
   "version": "3.10.9"
  },
  "orig_nbformat": 4
 },
 "nbformat": 4,
 "nbformat_minor": 2
}
